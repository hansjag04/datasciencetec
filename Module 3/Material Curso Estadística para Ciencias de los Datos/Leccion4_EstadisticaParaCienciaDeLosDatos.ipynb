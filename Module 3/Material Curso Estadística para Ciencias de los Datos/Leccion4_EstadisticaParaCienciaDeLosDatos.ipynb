{
 "cells": [
  {
   "cell_type": "markdown",
   "metadata": {
    "colab_type": "text",
    "id": "sPD8sqQXo3_P"
   },
   "source": [
    "# Estadística para Ciencia de los Datos - Lección 4\n",
    "\n",
    "Autor: Saúl Calderón, Juan Esquivel, Yuliana Mora"
   ]
  },
  {
   "cell_type": "markdown",
   "metadata": {
    "colab_type": "text",
    "id": "AmQBvNY5ZEEm"
   },
   "source": [
    "#Repaso sobre tipos de variables\n",
    "\n",
    "![](https://drive.google.com/uc?id=1PnmIs8d0rDcFklDdMA8HTTl08CL58YPz)\n",
    "\n",
    "**Variables nominales**: sus valores no son ordenables, por ejemplo:\n",
    "  - Sexo\n",
    "  - Religión\n",
    "  - País de procendencia\n",
    "  \n",
    "**Variables Ordinales**: los valores son ordenables pero no hay una noción de distancia consistente entre cada uno de sus valores, por ejemplo:\n",
    " - Orden de finalización de una carrera\n",
    " - Grado de acuerdo o desacuerdo con una política\n",
    " \n",
    "**Variables de escala de intervalo (intervalos)**: los valores son numéricos y las distancias entre cada valor tienen un significado consistente, por lo que las operaciones de suma y resta tienen sentido, por ejemplo:\n",
    " - Temperatura en grados celsius\n",
    " - Año del calendario\n",
    "\n",
    "**Variables de escala de razón (razones)**: tienen las mismas propiedades de los intervalos y adicionalemente el concepto de cero, que indica la **ausencia** de la cantidad medida. Algunos ejemplos son:\n",
    " - Cantidad de monedas\n",
    " - Distancia\n",
    " - Tensión eléctrica\n",
    " - Aceleración\n"
   ]
  },
  {
   "cell_type": "markdown",
   "metadata": {
    "colab_type": "text",
    "id": "3SwoMKYbbOGn"
   },
   "source": [
    "# Distribuciones de probabilidad\n",
    "Si bien es  cierto la distribución normal es referente y de utilidad significativa en múltiples ámbitos de la probabilidad, es necesario también estudiar otras distribuciones que modelan otro tipo de fenómenos.\n",
    "\n",
    "En las siguientes secciones abordaremos algunas de las distribuciones de probabilidad de mayor interés."
   ]
  },
  {
   "cell_type": "markdown",
   "metadata": {
    "colab_type": "text",
    "id": "aLLu7WmcbxKQ"
   },
   "source": [
    "##Uniforme discreta\n",
    "Está distribución modela la probabilidad de un conjunto finito de clases que pueden generarse por una variable aleatoria $X$.  Se dice que $X$ tiene una distribución *uniforme discreta* si cada uno de los valores que puede generar tienen la misma probabilidad de ser generados:\n",
    "\n",
    "\\begin{equation}\n",
    "p(x_i) = \\dfrac{1}{n}, i \\in \\{1, 2, ..., n\\}\n",
    "\\end{equation}\n",
    "\n",
    "Por ejemplo, esta distribución modela los resultados obtenidos de una variable aleatoria que representa un dado de 6 caras. El valor esperado que retornará la variable $X$, en este caso está dado por:\n",
    "\n",
    "\\begin{equation}\n",
    "\\mu=\\displaystyle\\sum_{i=1}^n x_ip(x_i)=1*\\dfrac{1}{6}+2*\\dfrac{1}{6}+3*\\dfrac{1}{6}+4*\\dfrac{1}{6}+5*\\dfrac{1}{6}+6*\\dfrac{1}{6}=3.5=\\dfrac{n+1}{2}\n",
    "\\end{equation}\n",
    "\n",
    "Y la varianza para $X$ viene dada por:\n",
    "\n",
    "\\begin{equation}\n",
    "\\sigma^2=\\dfrac{1}{n}\\displaystyle\\sum_{i=1}^nx_i^{2}-\\left(\\dfrac{n+1}{2} \\right)^{2}=\\dfrac{1}{n}\\dfrac{n(n+1)(2n+1)}{6}-\\left(\\dfrac{n+1}{2} \\right)^{2}=\\dfrac{n^2-1}{12}\n",
    "\\end{equation}\n",
    "\n",
    "\n",
    "En este caso: \n",
    "\n",
    "\\begin{equation}\n",
    "\\sigma^2=\\dfrac{6^2-1}{12}=\\dfrac{36-1}{12}\\approx2.9\n",
    "\\end{equation}\n",
    "\n",
    "\n"
   ]
  },
  {
   "cell_type": "code",
   "execution_count": 0,
   "metadata": {
    "colab": {
     "base_uri": "https://localhost:8080/",
     "height": 452
    },
    "colab_type": "code",
    "id": "EZLlzL1NfRxQ",
    "outputId": "70a3fb3b-19ac-4492-c87e-1fe0f71bc134"
   },
   "outputs": [
    {
     "data": {
      "image/png": "[encoded data removed]",
      "text/plain": [
       "<Figure size 640x480 with 1 Axes>"
      ]
     },
     "metadata": {
      "tags": []
     },
     "output_type": "display_data"
    }
   ],
   "source": [
    "import matplotlib.pyplot as plt; plt.rcdefaults()\n",
    "import numpy as np\n",
    "import matplotlib.pyplot as plt\n",
    "\n",
    "dice = [1, 2, 3, 4, 5, 6]\n",
    "probability = [1/6, 1/6, 1/6, 1/6, 1/6, 1/6]\n",
    "\n",
    "\n",
    "plt.bar(dice, probability, align='center', alpha=0.5)\n",
    "plt.ylabel('Probability')\n",
    "plt.title('Uniform Dice Probability')\n",
    "\n",
    "plt.show()"
   ]
  },
  {
   "cell_type": "markdown",
   "metadata": {
    "colab_type": "text",
    "id": "fEme0-gda4Qq"
   },
   "source": [
    "##Uniforme continua \n",
    "\n",
    "La función de densidad de una variable aleatoria continua $X$ uniformemente distribuida en el intervalo $\\mathbb{[a,b]}$, esta dada por:\n",
    "\n",
    "\n",
    "\\\\\n",
    "\\begin{equation}\n",
    "f(x)=\\left\\lbrace\n",
    "\\begin{array}{ll}\n",
    "\\dfrac{1}{b-a}&a \\leq x \\leq b\\\\\n",
    "\\\\\n",
    " 0& \\text{cualquier otro punto}\n",
    "\\end{array}\n",
    "\\right.\n",
    "\\end{equation}\n",
    "\n",
    "\n",
    "Los valores $a$ y $b$ son los parámetros de la función de densidad uniforme.\n",
    "\n",
    "La esperanza y varianza de $X$ son respectivamente: \n",
    "\n",
    "\n",
    "\\begin{equation}\n",
    "\\mu=\\dfrac{a+b}{2}\n",
    "\\end{equation}\n",
    "\n",
    "\n",
    "\\begin{equation}\n",
    "\\sigma^2=\\dfrac{(b-a)^2}{12}\n",
    "\\end{equation}\n",
    "\n"
   ]
  },
  {
   "cell_type": "markdown",
   "metadata": {
    "colab_type": "text",
    "id": "JfI_39hd0tMz"
   },
   "source": [
    "## Binomial\n",
    "La distribución binomial se basa en eventos que solo tienen dos posibles resultados: éxito o fracaso. \n",
    "\n",
    "El ejemplo más típico de este tipo de evento es el tirar una moneda al aire, donde sólo puede caer una cara de la moneda. Cada uno de estos eventos se le llama una *prueba de Bernoulli* o *ensayo de Bernoulli*\n",
    "\n",
    "\n",
    "\n",
    "Un experimento binomial normalmente posee las siguientes características:\n",
    "\n",
    "- Consiste en un número fijo, $n$, de pruebas idénticas.\n",
    "- Cada prueba resulta en uno de dos resultados: éxito o fracaso.\n",
    "- Las pruebas son independientes.\n",
    "- La probabilidad de éxito en una sola prueba es igual a  $p$ y es el mismo de una prueba a otra. La probabilidad de fracaso es igual a $q=(1-p)$. Se puede describir ambas probabilidades con un único parámetro.\n",
    "- La variable aleatoria de interés $X$, es discreta y describe el número de pruebas exitosas observado durante las $n$ pruebas.\n",
    "\n",
    "\n",
    "\n",
    "Nótese que los eventos que se pueden modelar no requieren tener sólo dos valores explícitamente, sino que se pueden agrupar en 2 categorías. Por ejemplo, en un examen de selección múltiple con $n$ opciones, lo importante es modelar si la respuesta es correcta o no (no la cantidad de opciones).\n",
    "\n"
   ]
  },
  {
   "cell_type": "code",
   "execution_count": 0,
   "metadata": {
    "colab": {},
    "colab_type": "code",
    "id": "aRmckfR2DFlK"
   },
   "outputs": [],
   "source": []
  },
  {
   "cell_type": "markdown",
   "metadata": {
    "colab_type": "text",
    "id": "c0HddUjwLMIL"
   },
   "source": [
    "### Combinatoria\n",
    "Antes de abordar la fórmula de variables aleatorias binomiales es importante recordar la notación combinatoria, que facilita expresar la manera en que se pueden crear combinaciones de diferentes eventos.\n",
    "\n",
    "Por ejemplo, podemos considerar las diferentes maneras de combinar 2 de los 3 colores primarios aditivos: rojo, verde y azul (RGB, por siglas en inglés). Las siguientes son las permutaciones disponibles:\n",
    "\n",
    "- RG\n",
    "- RB\n",
    "- GR\n",
    "- GB\n",
    "- BR\n",
    "- BG\n",
    "\n",
    "Sin embargo, suponiendo que el orden no nos interesa, podemos eliminar las combinaciones duplicadas, obteniendo un total de 3 posibilidades: RB, RG  y GB.\n",
    "\n",
    "La notación combinatoria captura este tipo de planteamiento expresando de un total de $n$ posibilidades la escogencia de $x$ valores:\n",
    "\n",
    "\\begin{equation}\n",
    "{n \\choose x} = \\dfrac{n!}{x!(n-x)!}\n",
    "\\end{equation}\n",
    "\n",
    "En el caso del ejemplo:\n",
    "\n",
    "\\begin{equation}\n",
    "{3 \\choose 2} = \\dfrac{3!}{2!(3-2)!}=\\dfrac{3 \\cdot 2 \\cdot 1}{(2 \\cdot 1)\\cdot 1}= 3\n",
    "\\end{equation}\n",
    "\n",
    "En el caso de la variable aleatoria que queremos modelar nos interesa saber cuántas pruebas fueron exitosas de un total máximo dado por los parámetros de la distribución."
   ]
  },
  {
   "cell_type": "markdown",
   "metadata": {
    "colab_type": "text",
    "id": "7GX2I31dPmza"
   },
   "source": [
    "### Función de probabilidad\n",
    "La variable aleatoria $X$ equivale al número de pruebas exitosas que ocurrieron dados dos parámetros:\n",
    "\n",
    "- La probabilidad $p$ de éxito\n",
    "- La cantidad $n$ de pruebas que se permiten\n",
    "\n",
    "Intuitivamente, estamos tratando de modelar de cuántas diferentes maneras se podrían dar las pruebas de forma que tengamos $x$ éxitos, de un total de $n$.\n",
    "\n",
    "\\begin{equation}\n",
    "p(x) = {n \\choose x} p^x(1-p)^{n-x},\\quad x=0,1,\\ldots,n,\\quad 0\\leq p \\leq 1\n",
    "\\end{equation}\n",
    "\n",
    "La esperanza y varianza están dadas únicamente por los dos parámetros $n$ y $p$\n",
    "\n",
    "\\begin{equation}\n",
    "\\mu=\\mathrm{E}(X)=np\n",
    "\\end{equation}\n",
    "\n",
    "\\begin{equation}\n",
    "\\sigma^2=\\mathrm{Var}(X)=np(1-p)\n",
    "\\end{equation}\n",
    "\n",
    "\n",
    "\n",
    "![](https://drive.google.com/uc?export=view&id=1DdXEdZ_roRKHdAhZWc_xCHnKHJ8YQlHy)\n",
    "\n",
    "Aplicaciones:\n",
    "\n",
    "- Muestreo de defectos en control de calidad industrial\n",
    "\n",
    "- Eficacia de un tratamiento en la cura de una enfermedad"
   ]
  },
  {
   "cell_type": "markdown",
   "metadata": {
    "colab_type": "text",
    "id": "Rmy6gVyBTJ3x"
   },
   "source": [
    "## Geométrica\n",
    "\n",
    "Esta distribución comparte algunas características de un experimento binomial. Comprende pruebas idénticas e independientes, con dos posibles resultados: éxito o fracaso y probabilidad de éxito $p$ constante de una prueba a otra.\n",
    "\n",
    "\n",
    "No obstante, ahora la variable aleatoria $X$ es el número de pruebas para que ocurra el primer éxito, es decir, $p(x)$cuantifica la probabilidad de que se deban realizar exactamente $x$ pruebas para encontrar la primera ocurrencia del evento.\n",
    "\n",
    "\n",
    "Por ejemplo, si decimos que para el evento de obtener escudo en una moneda queremos medir $p(x=5)$ implica que queremos saber cual es la probabilidad de que los primeros cuatro tiros hayan sido corona y el quinto sea escudo.\n",
    "\n",
    "Esto quiere decir que si un evento tiene un $p$ cercano a 1, es poco probable que haya que repetir la prueba muchas veces para poder obtenerlo.\n",
    "\n",
    "![](https://drive.google.com/uc?export=view&id=1uFeguJfVFnPSTz3A_W0Pf8njuPN8-4JH)\n",
    "\n",
    "![](https://drive.google.com/uc?id=1iZvlPZF6Pdk9J82vrCiCzxyZH0S-QhpE)"
   ]
  },
  {
   "cell_type": "markdown",
   "metadata": {
    "colab_type": "text",
    "id": "x694SPK_WFgp"
   },
   "source": [
    "Entonces la función de densidad para una variable aleatoria discreta $X$ distribuida geométricamente está dada por la siguiente expresión: \n",
    "\n",
    "\\begin{equation}\n",
    "p(x)=(1-p)^{x-1}p,\\quad x=1,2,\\ldots, \\quad 0\\leq p \\leq 1\n",
    "\\end{equation}\n",
    "\n",
    "La media y varianza están dadas por:\n",
    "\n",
    "\\begin{equation}\n",
    "\\mu=\\mathrm{E}(X)=\\dfrac{1}{p}\n",
    "\\end{equation}\n",
    "\n",
    "\\begin{equation}\n",
    "\\sigma^2=\\mathrm{Var}(X)=\\dfrac{1-p}{p^2}\n",
    "\\end{equation}\n",
    "\n",
    "Analizando la fórmula de $\\mathrm{E}(X)$, se observa que los valores más grandes de $p$ llevan a probabilidades más altas para los valores más pequeños de $X$ y en consecuencia, a menores probabilidades para los valores más grandes de $X$. De esta forma, el valor medio de $X$ es inversamente proporcional a $p$. \n",
    "\n",
    "\n",
    "La distribución de probabilidad geométrica se usa con frecuencia para modelar distribuciones de la duración de tiempos de espera. Por ejemplo, suponga que el motor de un avión comercial recibe atención periódicamente para cambiar sus diversas partes en diferentes instantes de tiempo y por lo tanto, las vidas útiles de sus componentes varían. Entonces la probabilidad $p$ de mal funcionamiento del motor durante cualquier intervalo de operación de una hora observado al azar podría ser el mismo que para cualquier otro intervalo de una hora. El tiempo \n",
    "transcurrido antes de que el motor falle es el número de intervalos de una hora, $X$, hasta que \n",
    "ocurra la primera falla. \n",
    "\n",
    "(Para esta aplicación, el mal funcionamiento del motor en un periodo \n",
    "determinado de una hora se define como éxito. Observe que como en el caso del experimento \n",
    "binomial, cualquiera de los dos resultados de una prueba se puede definir como éxito. Por lo tanto, en este contexto un \"éxito\" no es necesariamente lo que podría considerarse como \"bueno\" en nuestra \n",
    "conversación de todos los días.)"
   ]
  },
  {
   "cell_type": "markdown",
   "metadata": {
    "colab_type": "text",
    "id": "YyH2x8R-hzHd"
   },
   "source": [
    "## Poisson\n",
    "La distribución de Poisson brinda un buen modelo para la distribución de probabilidad del número $X$ de nuevos elementos o eventos que ocurren en un intervalo definido de tiempo o espacio. Por ejemplo, sirve para describir la probabilidad de llegada de nuevos clientes a una cola en un intervalo de tiempo o la probabilidad de un accidente automovilístico en un tramo de carretera durante una semana.\n",
    "\n",
    "Poisson trata de medir cuantas ocurrencias de un evento se dan por segmento.En el caso práctico humano, esta distribución permite conocer *cual es la probabilidad de que llegue un cliente a la fila del banco en los próximos 5 minutos*. En este caso, se trata de cuantos clientes por unidad de tiempo. Sin embargo, cualquier relación de conteo con unidades puede modelarse. \n",
    "\n",
    "La probabilidad de ocurrencia de que llegue un nuevo cliente a la fila en 5 minutos puede denotarse como $p$ y para fines prácticos:\n",
    "\n",
    "- $p$ es la misma en en cualquiera de los intervalos y es proporcional al largo del segmento.\n",
    "\n",
    "- El total de eventos en cada segmento es independiente de otros segmentos.\n",
    "\n",
    "\n",
    "La distribución Poisson está dada por un único parámetro $\\lambda> 0$ que determina su forma. La variable aleatoria $X$ se interpreta como el número de eventos en el intervalo.\n",
    "\n",
    "\\begin{equation}\n",
    "p(x)=\\dfrac{\\lambda^x}{x!}e^{-\\lambda} \\space \\space x=0, 1, 2,\\ldots \\space \\lambda>0\n",
    "\\end{equation}\n",
    "\n",
    "y su esperanza y varianza son: \n",
    "\n",
    "\n",
    "\\begin{equation}\n",
    "\\mu=\\mathrm{E}(X)= \\lambda\n",
    "\\end{equation}\n",
    "\n",
    "\\begin{equation}\n",
    "\\sigma^2=\\mathrm{Var}(X)=\\lambda\n",
    "\\end{equation}\n",
    "\n",
    "![](https://drive.google.com/uc?export=view&id=14BF2tsY91EJ_yQDlSbGSywG0RK-XnQTN)\n",
    "\n",
    "\n"
   ]
  },
  {
   "cell_type": "code",
   "execution_count": 14,
   "metadata": {},
   "outputs": [
    {
     "name": "stdout",
     "output_type": "stream",
     "text": [
      "\n",
      "Con lambda=5, x=0\n",
      "0.06737946999085469\n"
     ]
    }
   ],
   "source": [
    "import math\n",
    "\n",
    "def factorial(n):\n",
    "    fact = 1\n",
    "    for num in range(2, n + 1):\n",
    "        fact *= num\n",
    "    return fact\n",
    "\n",
    "def poisson(lamb, x):\n",
    "    return (lamb**x / factorial(x)) * math.e ** (-lamb)\n",
    "\n",
    "# lambda = 5 semillas por m^2\n",
    "# x = 0 semillas\n",
    "lamb = 5\n",
    "x = 0\n",
    "\n",
    "print(\"\\nCon lambda=5, x=0\")\n",
    "prob = poisson(5, 0)\n",
    "print(prob * 10)\n",
    "# print(1 - prob)\n",
    "\n"
   ]
  },
  {
   "cell_type": "markdown",
   "metadata": {
    "colab_type": "text",
    "id": "1XvVv9V1_dzf"
   },
   "source": [
    "### Ejercicio\n",
    "\n",
    "Cierto tipo de árbol tiene plantas que han crecido de semillas dispersas al azar en una superficie grande, con la densidad media de plantas siendo aproximadamente de cinco por metro cuadrado. Si en esa zona un guardabosques localiza al azar diez regiones de muestreo de 1 metro cuadrado, encuentre la probabilidad de que ninguna de las regiones contenga plantas que hayan crecido de semillas."
   ]
  },
  {
   "cell_type": "code",
   "execution_count": null,
   "metadata": {},
   "outputs": [],
   "source": [
    "print(\"\\nCon lambda=5, x=10\")\n",
    "prob = poisson(5, 10)\n",
    "print(prob)\n",
    "print(1 - prob)\n",
    "\n",
    "# # en 10 regiones: 5 es media para 1m^2\n",
    "# # pero para 10m^2 ??  5/10 = 0.5\n",
    "# # pregunta: p(x = 0) con lambda = 0.5\n",
    "# print(\"\\nCon lambda=0.5, x=0\")\n",
    "# prob = poisson(0.5, 0)\n",
    "# print(prob)\n",
    "# print(1 - prob)\n",
    "\n",
    "# # en 10 regiones: 5 es media para 1m^2\n",
    "# # pero para 10m^2 ??  5/10 = 0.5\n",
    "# # pregunta: p(x = 0) con lambda = 0.5\n",
    "# print(\"\\nCon lambda=50, x=0\")\n",
    "# prob = poisson(0.5, 0)\n",
    "# print(prob)\n",
    "# print(1 - prob)"
   ]
  },
  {
   "cell_type": "markdown",
   "metadata": {
    "colab_type": "text",
    "id": "kxiyvKhAh05n"
   },
   "source": [
    "## Exponencial\n",
    "\n",
    "La manera en que abordamos los procesos de Poisson en la sección anterior muestran una *ausencia de memoria* al medir cuando pasa un evento o no, con respecto a las ocurrencias anteriores. Por ejemplo, Poisson mide cuantas personas pueden llegar a un banco en los próximos 5 minutos, pero no toma consideraciones con respecto a si ya han llegado clientes en los 10 minutos anteriores.\n",
    "\n",
    "La distribución exponencial es utilizada para determinar la probabilidad de que en cierto tiempo suceda un determinado evento. Formalmente, si una variable aleatoria continua  $X$ se distribuye exponencialmente, es definida como la **distancia (tiempo) entre eventos** de un proceso Poisson (proceso en el cual los eventos ocurren de forma continua e independiente y a una tasa promedio constante). La función de densidad exponencial está dada por la siguiente ecuación:\n",
    "\n",
    "\\\\\n",
    "\\begin{equation}\n",
    "f(x)=\\left\\lbrace\n",
    "\\begin{array}{ll}\n",
    "\\\\ \\lambda\\space e^{-\\lambda x}   &x \\geq 0, \\space \\lambda \\geq 0\\\\\n",
    "\\\\\n",
    " 0& \\text{cualquier otro punto}\n",
    "\\end{array}\n",
    "\\right.\n",
    "\\end{equation}\n",
    "\n",
    "\n",
    "Donde $\\lambda$ es el inverso de la duración esperada entre eventos y representa un parámetro de intensidad del proceso.\n",
    "\n",
    "La esperanza y varianza están dadas por:\n",
    "\n",
    "\\begin{equation}\n",
    "\\mu=\\mathrm{E}(X)= \\dfrac{1}{\\lambda}\n",
    "\\end{equation}\n",
    "\n",
    "\\begin{equation}\n",
    "\\sigma^2=\\mathrm{Var}(X)=\\dfrac{1}{\\lambda^2}\n",
    "\\end{equation}\n",
    "\n",
    "\n",
    "La función de distribución exponencial es un caso particular de la función de distribución gamma que veremos en la siguiente sección. \n",
    "\n",
    "\n"
   ]
  },
  {
   "cell_type": "code",
   "execution_count": 0,
   "metadata": {
    "colab": {
     "base_uri": "https://localhost:8080/",
     "height": 295
    },
    "colab_type": "code",
    "id": "6VcsrcLbo9UQ",
    "outputId": "d8ab180a-1241-4ada-8ad5-2f011dfd8efb"
   },
   "outputs": [
    {
     "data": {
      "image/png": "[encoded data removed]",
      "text/plain": [
       "<Figure size 432x288 with 1 Axes>"
      ]
     },
     "metadata": {
      "tags": []
     },
     "output_type": "display_data"
    }
   ],
   "source": [
    "# Graficando Exponencial\n",
    "import scipy.stats as stats\n",
    "import matplotlib.pyplot as plt\n",
    "import numpy as np\n",
    "\n",
    "\n",
    "#distribución exponencial con lambda=2\n",
    "lambdaValue = 2\n",
    "exponencial1 = stats.expon(scale=1/lambdaValue)\n",
    "x1= np.linspace(exponencial1.ppf(0.01),\n",
    "                exponencial1.ppf(0.99), 100)\n",
    "fp1 = exponencial1.pdf(x1) # Función de Probabilidad\n",
    "\n",
    "\n",
    "#distribución exponencial con lambda=10\n",
    "lambdaValue = 10\n",
    "exponencial2 = stats.expon(scale=1/lambdaValue)\n",
    "x2 = np.linspace(exponencial2.ppf(0.01),\n",
    "                exponencial2.ppf(0.99), 100)\n",
    "fp2 = exponencial2.pdf(x2) # Función de Probabilidad\n",
    "\n",
    "#distribución exponencial con lambda=0.5\n",
    "lambdaValue = 0.5\n",
    "exponencial3 = stats.expon(scale=1/lambdaValue)\n",
    "x3 = np.linspace(exponencial3.ppf(0.01),\n",
    "                exponencial3.ppf(0.99), 100)\n",
    "fp3 = exponencial3.pdf(x3) # Función de Probabilidad\n",
    "\n",
    "\n",
    "plt.plot(x1, fp1, color=\"red\", label=\"lambda=2\")\n",
    "plt.plot(x2, fp2, color=\"green\", label=\"lambda=10\")\n",
    "plt.plot(x3, fp3, color=\"blue\",label=\"lambda=0.5\")\n",
    "plt.xlim(0, 10)\n",
    "plt.ylim(0, 1) #0.8\n",
    "plt.legend((\"lambda=2\",\"lambda=10\", \"lambda=0.5\"),prop = {'size':10}, loc = 'upper right')\n",
    "\n",
    "\n",
    "plt.title('Distribución Exponencial')\n",
    "plt.ylabel('f(x)')\n",
    "plt.xlabel('x')\n",
    "plt.show()\n",
    "\n",
    "\n",
    "\n"
   ]
  },
  {
   "cell_type": "markdown",
   "metadata": {
    "colab_type": "text",
    "id": "DRJESKElh4Vo"
   },
   "source": [
    "## Gamma\n",
    "\n",
    "La distribución Gamma es adecuada para modelar el comportamiento de variables aleatorias continuas con asimétrica positiva, es decir, variables que presentan una mayor probabilidad de ocurrencia de eventos a la izquierda de la media que a la derecha. Esto es, casi toda el área bajo la \n",
    "función de densidad está ubicada cerca del origen y la función de densidad cae gradualmente \n",
    "conforme y aumenta. La distribución Gamma también es útil para modelar eventos que involucren el tiempo. \n",
    "\n",
    "Una variable aleatoria continua $X$ tiene una distribución Gamma si su función de densidad está expresada como: \n",
    "\n",
    "\\\\\n",
    "\\begin{equation}\n",
    "f(x)=\\left\\lbrace\n",
    "\\begin{array}{ll}\n",
    "\\dfrac{x^{\\alpha-1}e^{{-x}/{\\beta}}}{\\beta^\\alpha\\Gamma(\\alpha)},  & x \\geq 0, \\space \\alpha>0, \\space \\beta>0\n",
    "\\\\\n",
    " 0& \\text{cualquier otro punto}\n",
    "\\end{array}\n",
    "\\right.\n",
    "\\end{equation}\n",
    "\n",
    "\n",
    "Donde:\n",
    "\n",
    "\n",
    "\\begin{equation}\n",
    "\\Gamma(\\alpha)=\\int_0^{\\infty} x^{\\alpha-1}e^{-x}dx\n",
    "\\end{equation}\n",
    "\n",
    "La función $\\Gamma(\\alpha)$ se conoce como función gamma. La integración directa verifica que $\\Gamma(1)=1$ y la integración por partes nos da un resultado que equivale al factorial continuo, cuando $\\alpha$ es positivo\n",
    "\n",
    "\\begin{align}\n",
    "\\Gamma(\\alpha)&=(\\alpha-1)\\Gamma(\\alpha-1)\n",
    "\\\\&=(\\alpha-1)!\n",
    "\\end{align} \n",
    "\n",
    " $\\alpha$ es un *parámetro de forma* y $\\beta$ es un *parámetro de escala*.\n",
    "\n",
    "Cuando $\\alpha=1$, $f(x)$ es ídentica a una distribución Exponencial.\n",
    "\n",
    "\n",
    "Dada $f(x)$ la esperanza y varianza de $X$ son:\n",
    "\n",
    "\\begin{equation}\n",
    "\\mu=\\mathrm{E}(X)= \\alpha\\beta\n",
    "\\end{equation}\n",
    "\n",
    "\\begin{equation}\n",
    "\\sigma^2=\\mathrm{Var}(X)=\\alpha\\beta^2\n",
    "\\end{equation}"
   ]
  },
  {
   "cell_type": "code",
   "execution_count": 0,
   "metadata": {
    "colab": {
     "base_uri": "https://localhost:8080/",
     "height": 295
    },
    "colab_type": "code",
    "id": "v12HEggIjIOM",
    "outputId": "123faf81-41fd-48cd-c56e-ec2704d91bb1"
   },
   "outputs": [
    {
     "data": {
      "image/png": "[encoded data removed]",
      "text/plain": [
       "<Figure size 432x288 with 1 Axes>"
      ]
     },
     "metadata": {
      "tags": []
     },
     "output_type": "display_data"
    }
   ],
   "source": [
    "# Graficando Gamma\n",
    "import scipy.stats as stats\n",
    "import numpy as np\n",
    "import matplotlib.pyplot as plt\n",
    "\n",
    "\n",
    "#distribución gamma con alpha=1 y beta=1\n",
    "gamma1 = stats.gamma(1)\n",
    "x1= np.linspace(gamma1.ppf(0.01),\n",
    "                gamma1.ppf(0.99), 100)\n",
    "fp1 = gamma1.pdf(x1) # Función de Probabilidad\n",
    "\n",
    "\n",
    "#distribución gammal con alpha=1 y beta=2\n",
    "gamma2 = stats.gamma(1,scale=2)\n",
    "x2= np.linspace(gamma2.ppf(0.01),\n",
    "                gamma2.ppf(0.99), 100)\n",
    "fp2 = gamma2.pdf(x2) # Función de Probabilidad\n",
    "\n",
    "\n",
    "#distribución gamma con alpha=4 y beta=1\n",
    "gamma3 = stats.gamma(4)\n",
    "x3 = np.linspace(gamma3.ppf(0.01),\n",
    "                gamma3.ppf(0.99), 100)\n",
    "fp3 = gamma3.pdf(x3) # Función de Probabilidad\n",
    "\n",
    "\n",
    "#distribución exponencial con alpha=4  y beta=3 \n",
    "gamma4 = stats.gamma(a=4,scale=3)\n",
    "x4 = np.linspace(gamma4.ppf(0.01),\n",
    "                gamma4.ppf(0.99), 100)\n",
    "fp4 = gamma4.pdf(x4) # Función de Probabilidad\n",
    "\n",
    "\n",
    "plt.plot(x1, fp1, color=\"red\", label=\"alpha=1\")\n",
    "plt.plot(x2, fp2, color=\"green\", label=\"alpha=2\")\n",
    "plt.plot(x3, fp3, color=\"blue\", label=\"alpha=4\")\n",
    "plt.plot(x4, fp4, color=\"black\", label=\"alpha=4 y beta=3\")\n",
    "\n",
    "plt.xlim(0, 20) #0,10\n",
    "plt.ylim(0, 0.8) #0, 0.8\n",
    "plt.legend((\"alpha=0.5\",\"alpha=1 y beta=2\", \"alpha=4\",\"alpha=4 y beta=3\"),prop = {'size':10}, loc = 'upper right')\n",
    "\n",
    "\n",
    "plt.title('Distribución Gamma')\n",
    "plt.ylabel('f(x)')\n",
    "plt.xlabel('x')\n",
    "plt.show()\n",
    "\n",
    "#Siempre que alpha (el parámetro de forma) sea menor que 1\n",
    "#la distribución Gamma será asintótica al eje y. Conforme se incrementa\n",
    "#el valor de alpha el gráfico se verá más disperso y con una menor\n",
    "#inclinación"
   ]
  }
 ],
 "metadata": {
  "colab": {
   "collapsed_sections": [],
   "name": "Leccion4_EstadisticaParaCienciaDeLosDatos.ipynb",
   "provenance": []
  },
  "kernelspec": {
   "display_name": "Python 3",
   "language": "python",
   "name": "python3"
  },
  "language_info": {
   "codemirror_mode": {
    "name": "ipython",
    "version": 3
   },
   "file_extension": ".py",
   "mimetype": "text/x-python",
   "name": "python",
   "nbconvert_exporter": "python",
   "pygments_lexer": "ipython3",
   "version": "3.7.3"
  }
 },
 "nbformat": 4,
 "nbformat_minor": 1
}
