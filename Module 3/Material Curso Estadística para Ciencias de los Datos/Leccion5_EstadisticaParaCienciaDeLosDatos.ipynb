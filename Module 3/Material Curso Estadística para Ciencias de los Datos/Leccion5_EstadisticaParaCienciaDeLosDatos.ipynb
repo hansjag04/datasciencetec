{
  "nbformat": 4,
  "nbformat_minor": 0,
  "metadata": {
    "colab": {
      "name": "Leccion5_EstadisticaParaCienciaDeLosDatos.ipynb",
      "provenance": [],
      "collapsed_sections": []
    },
    "kernelspec": {
      "name": "python3",
      "display_name": "Python 3"
    }
  },
  "cells": [
    {
      "cell_type": "markdown",
      "metadata": {
        "id": "sPD8sqQXo3_P",
        "colab_type": "text"
      },
      "source": [
        "# Estadística para Ciencia de los Datos - Lección 5\n",
        "\n",
        "Autor: Jorge Castro, Saúl Calderón, Juan Esquivel"
      ]
    },
    {
      "cell_type": "markdown",
      "metadata": {
        "id": "_UgeRsbnyFcA",
        "colab_type": "text"
      },
      "source": [
        "# Pruebas de Hipótesis\n",
        "\n",
        "En muchos problemas de ciencias de los datos, es necesario decidir\n",
        "si se rechaza o no una declaración respecto a algún parámetro de una o más poblaciones.\n",
        "Tal declaración se conoce como **hipótesis**, y el proceso de\n",
        "toma de decisión para concluir algo a partir de tal hipótesis se conoce como\n",
        "**prueba de hipótesis**. Como veremos, las pruebas de hipótesis tienen una relación cercana con los intervalos de confianza.\n",
        "\n",
        "En muchos aspectos, el procedimiento formal para pruebas de hipótesis es semejante al método científico. Éste observa la naturaleza, formula una hipótesis y la confronta con lo observado. En nuestro contexto, se plantea una hipótesis respecto a uno o más parámetros \n",
        "poblacionales, por ejemplo, de que son iguales a valores especificados. Luego se toma una muestra de la población y se comparan las observaciones con la hipótesis. Si las observaciones no concuerdan con la hipótesis, entonces se rechaza. De lo contrario, la hipótesis se asume como cierta y se concluye que la muestra no detectó diferencia entre los valores reales e hipotéticos de los parámetros poblacionales."
      ]
    },
    {
      "cell_type": "markdown",
      "metadata": {
        "id": "sKqZGus9yMhN",
        "colab_type": "text"
      },
      "source": [
        "## Ejemplo 1\n",
        "\n",
        "Un científico de datos tiene por objetivo verificar si la exactitud promedio de un algoritmo de clasificación $A$ es de 85\\%. Formalmente, esto podría expresarse como una hipótesis nula, la cual declara que la media poblacional es $\\mu=0.85$, entonces: \n",
        "\n",
        "\\begin{equation}\n",
        "H_{0}:\\mu=0.85\\quad\\textrm{hipótesis nula}\n",
        "\\end{equation}\n",
        "\\begin{equation}\n",
        "H_{1}:\\mu\\neq0.85\\quad\\textrm{hipótesis alternativa}\n",
        "\\end{equation}\n",
        "\n",
        "La hipótesis alternativa, la cual se aceptaría al rechazarse la hipótesis nula, se conoce en este caso también como una **hipótesis de dos lados** o **hipótesis de dos colas**, puesto que se cumple en tanto si $\\mu>0.85$ o $\\mu<0.85$. Para este caso, también podríamos formular una **hipótesis alternativa de un lado** como:\n",
        "\n",
        "\\begin{equation}\n",
        "H_{0}:\\mu=0.85\\quad\\textrm{hipótesis nula}\n",
        "\\end{equation}\n",
        "\\begin{equation}\n",
        "H_{1}:\\mu < 0.85\\quad\\textrm{hipótesis alternativa}\n",
        "\\end{equation}\n",
        "\n",
        "o bien:\n",
        "\n",
        "\\begin{equation}\n",
        "H_{0}:\\mu=0.85\\quad\\textrm{hipótesis nula}\n",
        "\\end{equation}\n",
        "\\begin{equation}\n",
        "H_{1}:\\mu>0.85\\quad\\textrm{hipótesis alternativa}\n",
        "\\end{equation}\n",
        "\n",
        "Es importante resaltar que las hipótesis son afirmaciones sobre la población o distribución bajo estudio, no sobre la muestra. El valor del parámetro poblacional especificado en la hipótesis nula (0.85 en este ejemplo) usualmente se determina de acuerdo a:\n",
        "\n",
        "1. **Experiencia previa o conocimiento del proceso**.\n",
        "  - **Objetivo**: Determinar si el valor del parámetro ha cambiado\n",
        "  - **Ejemplo**: Máquina dispensadora de café\n",
        "\n",
        "2. **Teorías o modelos respecto al proceso bajo estudio**.\n",
        "  - **Objetivo**: Verificar la teoría o el modelo\n",
        "  - **Ejemplo**: Modelo climatológico sobre predicción de precipitaciones\n",
        "\n",
        "3. **Consideraciones externas**: Diseño, especificaciones ingenieriles u obligaciones contractuales.\n",
        "  - **Objetivo**: Prueba de conformidad (metodología usada en ingeniería para asegurar que un producto, proceso o un programa de computadora cumple con un conjunto definido de requerimientos o estándares)\n",
        "  - **Ejemplo**: Que un modelo $X$ de automóvil consuma en promedio $\\mu$ millas por galón en ciudad. Que un medicamento cure una enfermedad en el 95% de los casos. Que un algoritmo tenga una presición promedio de 0.85 \n",
        "\n",
        "\n",
        "Una prueba de hipótesis, consiste entonces en tomar una **muestra aleatoria de la población de interés**, calcular un estadístico de prueba a partir de los datos muestrales y usar ese estadístico para tomar una decisión sobre la hipótesis nula (aceptarla o rechazarla).\n",
        "\n",
        "Continuando con el ejemplo del algoritmo de clasificación, supongamos que de acuerdo a la **experiencia previa** del uso del algoritmo se considera que la exactitud media es de $\\mu=0.85$. Ahora, suponiendo que se tiene acceso a un nuevo set de datos tomado de la misma población de interés se desea verificar la hipótesis nula $H_{0}:\\mu=0.85$ contra la hipótesis alternativa $H_{1}:\\mu < 0.85$. Si  ejecutamos el algoritmo $n=30$ veces y obtenemos una media muestral $\\overline{x}$, podemos definir un intervalo en el cual no rechazamos la hipótesis nula, por ejemplo: \n",
        "\\begin{equation}\n",
        "\\overline{x} \\geq 0.84 \n",
        "\\end{equation}\n",
        "\n",
        "\n",
        "A tal intervalo se le conoce como **región de aceptación (RA)**. A los valores fuera de tal intervalo, es decir $\\overline{x}<0.84$ se les conoce como **región de rechazo (RR)** o región crítica, pues en este caso se rechaza la hipótesis nula. A los valores en los límites, en este caso $0.84$ se les conoce como **valores críticos**.\n",
        "\n",
        "Observe que para este ejemplo, pudimos haber seleccionado una hipótesis alternativa de dos colas: $H_{1}:\\mu\\neq0.85$, lo cual nos lleva a la pregunta: ¿Cómo decidir cuál hipótesis alternativa usar para una prueba? La respuesta depende de la hipótesis que pretendemos apoyar. Si estamos interesados únicamente en detectar una disminución en la presición del algoritmo, debemos localizar la región de rechazo en la cola inferior de la distribución normal estándar. Por otra parte, si deseamos detectar un cambio en $\\mu$ ya sea para arriba o para abajo de $\\mu=0.85$, debemos localizar las regiones de rechazo en ambas colas de la distribución normal estándar. \n"
      ]
    },
    {
      "cell_type": "markdown",
      "metadata": {
        "id": "G1U9kbqdyTB9",
        "colab_type": "text"
      },
      "source": [
        "## Tipos de error\n",
        "\n",
        "Para establecer si se acepta o no la hipótesis nula $H_{0}$ relativa a valores o intervalos para parámetros de una distribución, se utilizan estimaciones muestrales, y por lo tanto es posible incurrir en un error. Siguiendo el ejemplo anterior, la hipótesis nula $H_{0}$ corresponde a que $\\mu=0.85$, la cual se aceptará o rechazará, usando una media\n",
        "muestral $\\overline{x}$. Los **tipos de error posibles a cometer**,\n",
        "se resumen en la siguiente tabla:\n",
        "\n",
        "\n",
        "**Decisión/Valor real** | **$H_{0}$ es verdadera** | **$H_{0}$ es falsa**\n",
        "---|---|---\n",
        "**Se acepta $H_{0}$** | Verdadero negativo (sin error) | Falso negativo (error tipo II)\n",
        "**Se rechaza $H_{0}$** | Falso positivo (error tipo I) | Verdadero positivo (sin error)\n",
        "\n",
        "La **probabilidad\n",
        "de cometer un error de tipo I** está dada por: \n",
        "\n",
        "\\begin{equation}\n",
        "\\alpha=Pr\\left(\\textrm{Error Tipo I}\\right)=Pr(\\textrm{rechazar } H_0 \\textrm{ cuando } H_0 \\textrm{es verdadera}).\n",
        "\\end{equation}\n",
        "\n",
        "A la probabilidad del error de tipo I se le conoce también como\n",
        "el **nivel de significancia**, **nivel de la prueba** o **error-$\\alpha$**. En el ejemplo del algoritmo de clasificación, el error de tipo I ocurriría cuando $\\overline{x} < 0.84$ siendo la verdadera media  de la población $\\mu=0.85$. Si suponemos que se conoce la desviación estándar de la población (lo cual usualmente no es posible) $\\sigma=0.05$, se puede calcular la desviación estándar de la media muestral como $\\sigma_{\\overline{x}}=\\sigma/\\sqrt{n}=0.05/\\sqrt{30}=0.0091$. Entonces, la probabilidad de obtener un error tipo I se puede calcular como: \n",
        "\n",
        "\\begin{equation}\n",
        "\\alpha=Pr\\left(\\overline{x}<0.84\\textrm{ cuando }\\mu=0.85\\right)\n",
        "\\end{equation}\n",
        "\n",
        "Para obtener esta probabilidad, normalizamos el valor crítico 0.84:\n",
        "\n",
        "\\begin{equation}\n",
        "z=\\frac{0.84-0.85}{0.0091}=-1.0989\n",
        "\\end{equation}\n",
        "\n",
        "\n",
        "y finalmente evaluamos la función de distribución acumulativa de Z en el punto $−1.0989$, para obtener:\n",
        "\n",
        "$\\alpha=Pr(Z < −1.0989)=0.1359$\n",
        "\n",
        "Esto implica que el 13.59% de todas las muestras aleatorias llevarán a un rechazo de la hipótesis nula $H_{0}:\\mu=0.85$ cuando la verdadera exactitud promedio sea realmente $0.85$. \n",
        "\n"
      ]
    },
    {
      "cell_type": "markdown",
      "metadata": {
        "id": "Gf3j2ffR8uLP",
        "colab_type": "text"
      },
      "source": [
        "## Reducción de $\\alpha$\n",
        "\n",
        "La forma más evidente de reducir el valor de $\\alpha$ es **ampliando la región de aceptación (RA)**. Por ejemplo, si redefinieramos el valor crítico como\n",
        "0.82 en vez de 0.84, obtendríamos el valor de $\\alpha$ como:\n",
        "\n",
        "$\\alpha=Pr(Z<\\frac{0.82-0.85}{0.0091})=Pr(Z<-3.2967)=0.00049$\n",
        "\n",
        "Otra forma de reducir el valor de $\\alpha$ es **incrementando el tamaño de la muestra**. Si $n=100$, entonces $\\sigma_{\\overline{x}}=\\sigma/\\sqrt{n}=0.05/\\sqrt{100}=0.005$, y usando la región de rechazo original $\\overline{x}<0.84$, obtendríamos que:\n",
        "\n",
        "$\\alpha=Pr(Z<\\frac{0.84-0.85}{0.005})=Pr(Z<-2)=0.02275$\n",
        "\n"
      ]
    },
    {
      "cell_type": "markdown",
      "metadata": {
        "id": "yP60i5DNOet9",
        "colab_type": "text"
      },
      "source": [
        "## Cálculo de $\\beta$\n",
        "\n",
        "En algunos casos también es importante examinar la probabilidad de cometer un error tipo II, denotada como $\\beta$. Para calcular $\\beta$ se debe tener un **valor específico de $\\mu$** para la hipótesis alternativa. Por ejemplo, supongamos que para el algoritmo de clasificación es muy importante rechazar la hipótesis nula $H_{0}:\\mu=0.85$ cuando la media real es menor o igual a $0.8$ (por ejemplo por requerimientos de la aplicación). Entonces, cometeríamos un error tipo II  si la media muestral $\\overline{x}$ callera dentro del rango de aceptación, definido al inicio del ejemplo como $\\overline{x} \\geq 0.84$, siendo la verdadera media $\\mu=0.8$. Por lo tanto la probabilidad $\\beta$ estaría dada por:\n",
        "\n",
        "$\\beta=Pr(\\overline{x} \\geq 0.84 \\quad \\textrm{cuando} \\quad \\mu=0.8)$\n",
        "\n",
        "lo cual corresponde a:\n",
        "\n",
        "$\\beta=Pr(Z \\geq \\frac{0.84-0.80}{0.0091})=Pr(Z\\geq 4.3956)=1-Pr(Z<4.3956) = 5.5 \\times 10^{-6}$\n",
        "\n",
        "Por lo tanto, si estamos probando $H_{0}:\\mu=0.85$ contra $H_{1}:\\mu < 0.85$ con $n=30$ y el valor verdadero de la media es $\\mu=0.80$, la probabilidad de cometer un error tipo II (no rechazar la hipótesis nula, siendo esta realmente falsa) es $5.5 \\times 10^{-6}$. La probabilidad de cometer un error tipo II incrementa rápidamente en cuanto el valor específico de $\\mu$ para la hipótesis alternativa se aproxima a la región de aceptación, por ejemplo  si $\\mu=0.83$:\n",
        "\n",
        "$\\beta=Pr(\\overline{x} \\geq 0.84 \\quad \\textrm{cuando} \\quad \\mu=0.83)$\n",
        "\n",
        "lo cual corresponde a:\n",
        "\n",
        "$\\beta=Pr(Z \\geq \\frac{0.84-0.83}{0.0091})=Pr(Z\\geq 1.0989)=1-Pr(Z<1.0989) = 0.1359$\n",
        "\n",
        "Si incrementamos el tamaño de la muestra $n=100$, teníamos que $\\sigma_{\\overline{x}}=\\sigma/\\sqrt{n}=0.05/\\sqrt{100}=0.005$ y podemos ver que el error $\\beta$ también disminuye:\n",
        "\n",
        "$\\beta=Pr(Z \\geq \\frac{0.84-0.83}{0.005})=Pr(Z\\geq 2)=1-Pr(Z<2) = 0.0228$"
      ]
    },
    {
      "cell_type": "markdown",
      "metadata": {
        "id": "S2GMipfLjvFa",
        "colab_type": "text"
      },
      "source": [
        "## Conclusiones sobre $\\alpha$ y $\\beta$\n",
        "\n",
        "1. El área bajo la curva de la región de rechazo va a ser igual a  la probabilidad de un error de tipo I $\\alpha$\n",
        "\n",
        "2. Si mantenemos el tamaño de muestra constante, una disminución en la probabilidad del error de tipo I implica un aumento en la probabilidad del error tipo II y viceversa.\n",
        "\n",
        "3. Un incremento en el tamaño de muestra reduce tanto $\\alpha$ como $\\beta$, si se mantienen constantes los valores críticos.\n",
        "\n",
        "4. Para el cálculo de $\\beta$, entre más cercano sea el valor específico escogido para la hipótesis alternativa respecto al valor dado por la hipótesis nula, más grande será el valor de $\\beta$.\n",
        "\n",
        "5. A $1-\\beta$, se le conoce como **la potencia de una prueba estadística** y se interpreta como la probabilidad de correctamente rechazar una hipótesis nula cuando esta es falsa.  \n",
        "\n",
        "\n",
        "Para casi todas las situaciones reales, las decisiones incorrectas cuestan dinero, prestigio o tiempo e implican una pérdida. Entonces, $\\alpha$  y $\\beta$, las probabilidades de cometer estos dos tipos de error, miden los riesgos relacionados con las dos posibles decisiones erróneas que podrían resultar de una prueba estadística.\n"
      ]
    },
    {
      "cell_type": "markdown",
      "metadata": {
        "id": "6r6KeOJ36ADC",
        "colab_type": "text"
      },
      "source": [
        "## Impacto del tamaño de muestra en el margen de error\n",
        "\n",
        "Una inquietud natural que se puede tener al tratar de analizar intervalos de confianza es qué tamaño de muestra se necesita para tener un margen de error $\\rho$ determinado usando un nivel de confianza $1-\\alpha$ particular. Por la relación establecida, en la lección #3:\n",
        "\n",
        "![](https://drive.google.com/uc?id=1dftNzjBFYzZbtH7Qn-piBi1qu44CODza)\n",
        "\n",
        "\\begin{equation}\n",
        "\\overline{x}\\pm \\rho=\\overline{x}\\pm\\frac{\\sigma\\, z_{\\alpha/2}}{\\sqrt{n}},\n",
        "\\end{equation}\n",
        "\n",
        "podemos replantear los requerimientos muestrales como:\n",
        "\n",
        "\\begin{equation}\n",
        "n = \\left(\\dfrac{\\sigma z_{\\alpha/2}}{\\rho} \\right)^2\n",
        "\\end{equation}\n",
        "\n",
        "Para satisfacer los requerimientos de $\\rho$ y $1 - \\alpha$, el resultado debe ser redondeado hacia arriba en caso de ser necesario."
      ]
    },
    {
      "cell_type": "markdown",
      "metadata": {
        "id": "T3asXX2VvOA9",
        "colab_type": "text"
      },
      "source": [
        "## Procedimiento general de prueba de hipótesis\n",
        "\n",
        "Se recomienda usar la siguiente secuencia de pasos para aplicar una prueba de hipótesis:\n",
        "\n",
        "1. Identificar el parámetro de interés\n",
        "\n",
        "2. Establecer la hipótesis nula, $H_0$\n",
        "\n",
        "3. Especificar una hipótesis alternativa apropiada, $H_1$\n",
        "\n",
        "4. Escoger un nivel de significancia $\\alpha$\n",
        "\n",
        "5. Determinar el estadístico apropiado para la prueba:\n",
        "\n",
        "$Z=\\frac{\\textrm{estimador del param}-\\textrm{valor del param dado por H_0}}{\\textrm{error estándar del estimador}}$\n",
        "\n",
        "6. Establecer la región de rechazo para el estadístico\n",
        "\n",
        "7. Cálcular el estadístico de la prueba\n",
        "\n",
        "8. Decidir si $H_0$ debe ser rechazada y reportar el resultado bajo el contexto del problema\n",
        "\n",
        "**Importante**: los pasos del 1 al 4 deberían de ser completados antes de examinar los datos muestrales."
      ]
    },
    {
      "cell_type": "markdown",
      "metadata": {
        "id": "iSKA-ADM6Mst",
        "colab_type": "text"
      },
      "source": [
        "## Ejemplo 2\n",
        "\n",
        "Los sistemas de escape aeronaúticos están impulsados por un propulsor sólido. La tasa de combustión de este propulsor es una característica importante del producto. Las especificaciones requieren que la tasa de combustión media sea de 50 centímetros por segundo. Sabemos que la desviación estándar de la tasa de combustión es de $\\sigma=2$ centímetros por segundo. El experimentador decide especificar la probabilidad de un error de tipo I $\\alpha=0.05$, selecciona una muestra aleatoria de $n=25$ y\n",
        "obtiene una media muestral de la tasa de combustión $\\overline{x}=51.3$ centímetros por segundo. ¿Qué conclusiones se deben sacar?\n",
        "\n",
        "## Solución\n",
        "\n",
        "1. El parámetro de interés es $\\mu$, la tasa de combustión media.\n",
        "\n",
        "2. $H_0:\\mu=50$ centímetros por segundo\n",
        "\n",
        "3. $H_1: \\mu \\neq 50$ centímetros por segundo\n",
        "\n",
        "4. $\\alpha = 0.05$\n",
        "\n",
        "5. El estadístico de prueba es:\n",
        "\n",
        "$z=\\frac{\\overline{x} - \\mu_0}{\\sigma / \\sqrt{n}}$\n",
        "\n",
        "6. Se rechaza $H_0$ si $z > z_{0.025}$ o si $z < -z_{0.025}$ o en otras palabras si $z > 1.96$ o si $z < -1.96$.\n",
        "\n",
        "7. Cálculo del estadístico con $\\overline{x}=51.3$ y $\\sigma=2$,\n",
        "\n",
        "$z=\\frac{51.3 - 50}{2 / \\sqrt{25}}= 3.25$\n",
        "\n",
        "8. Conclusión: Dado que $z=3.25>1.96$, se rechaza $H_0:\\mu=50$ con un nivel de significancia de 0.05. Dicho en otras palabras, concluimos que la tasa de combustión media difiere de 50 centímetros por segundo basados en una muestra de 25 observaciones."
      ]
    },
    {
      "cell_type": "markdown",
      "metadata": {
        "id": "zXRz0FfOTrLT",
        "colab_type": "text"
      },
      "source": [
        "## Ejemplo 3\n",
        "\n",
        "Dado que conocer la desviación estándar de la población no es factible en muchos casos de la vida real en el siguiente ejemplo veremos como hacer una prueba de hipótesis cuando desconocemos $\\sigma$. Básicamente, al igual que en la lección #3, aproximamos $\\sigma$ a través de la desviación estándar muestral $S$ y usamos la distribución $T$ en vez de la $Z$.\n",
        "\n",
        "Suponga que se obtienen las velocidades iniciales de ocho balas probadas con una nueva pólvora, junto con la media muestral $\\overline{x}=2959$ ft/s y la desviación estándar muestral $S=39.1$ ft/s. El fabricante dice que la nueva pólvora produce un promedio de velocidad de no menos de \n",
        "3000 pies por segundo. ¿Los datos muestrales aportan suficiente evidencia para contradecir lo afirmado por el fabricante en el nivel de significancia de .025?\n",
        "\n",
        "\n",
        "\n"
      ]
    },
    {
      "cell_type": "code",
      "metadata": {
        "id": "lfLE13f9IheO",
        "colab_type": "code",
        "outputId": "6adf5ef6-faf3-4b77-b050-ff3a983013d9",
        "colab": {
          "base_uri": "https://localhost:8080/",
          "height": 34
        }
      },
      "source": [
        "from scipy.stats import norm, t\n",
        "import numpy as np\n",
        "\n",
        "#1-norm.cdf(2)\n",
        "#norm.ppf(0.025)\n",
        "t.ppf(0.025,8-1)\n",
        "\n",
        "#(2959-3000)/(39.1/np.sqrt(8))\n",
        "norm.ppf(0.025)"
      ],
      "execution_count": 0,
      "outputs": [
        {
          "output_type": "execute_result",
          "data": {
            "text/plain": [
              "-1.9599639845400545"
            ]
          },
          "metadata": {
            "tags": []
          },
          "execution_count": 2
        }
      ]
    }
  ]
}