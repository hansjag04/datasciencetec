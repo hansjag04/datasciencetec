{
  "nbformat": 4,
  "nbformat_minor": 0,
  "metadata": {
    "colab": {
      "name": "Leccion6_EstadisticaParaCienciaDeLosDatos.ipynb",
      "provenance": [],
      "collapsed_sections": []
    },
    "kernelspec": {
      "name": "python3",
      "display_name": "Python 3"
    }
  },
  "cells": [
    {
      "cell_type": "markdown",
      "metadata": {
        "id": "sPD8sqQXo3_P",
        "colab_type": "text"
      },
      "source": [
        "# Estadística para Ciencia de los Datos - Lección 6\n",
        "\n",
        "Autor: Saúl Calderón, Juan Esquivel, Yuliana Mora, Jorge Castro"
      ]
    },
    {
      "cell_type": "markdown",
      "metadata": {
        "id": "vjYxU-KrHja7",
        "colab_type": "text"
      },
      "source": [
        "# Diseño de Experimentos\n",
        "\n",
        "Los experimentos son parte esencial del método científico. En el contexto\n",
        "de ciencias de los datos, es frecuente la evaluación del impacto al\n",
        "modificar uno o más parámetros de un modelo para un conjunto de datos,\n",
        "con relevancia estadística. \n",
        "\n",
        "Más específicamente, tómese como ejemplo el entrenamiento y evaluación de una red neuronal profunda, la cual tiene como objetivo clasificar archivos de audio de acuerdo a las especies de pájaros que vocalizan.\n",
        "\n",
        "Supongamos que queremos ajustar dos hiperparámetros de la red neuronal $x_{1}$ y $x_{2}$, los cuales influyen de manera decisiva en la exactitud final de la red (variable de respuesta). El hiperparámetro\n",
        "$x_{1}$ es binario (verdadero o falso) y $x_{2}$ es\n",
        "un parámetro numérico discreto en el intervalo $\\left[4,8\\right]$. En la nomenclatura de diseño de experimentos estadísticos, los dos\n",
        "hiperparámetros se refieren como los **factores del experimento**, donde el factor $x_{1}$ presenta dos **niveles** o valores\n",
        "posibles distintos, y el factor $x_{2}$ presenta 5 niveles.\n",
        "\n",
        "\n",
        "\n",
        "![](https://drive.google.com/uc?export=view&id=15_-DoGca3h72apA_iDepg1pLH36TX6nF)\n",
        "\n",
        "\n",
        "\n",
        "Un diseño de experimentos apropiado, posibilita realizar las siguientes\n",
        "evaluaciones en un sistema basado en aprendizaje automático:\n",
        "\n",
        "1. Determinar cuáles son los **factores $x$ que tienen mayor influencia** sobre la respuesta $y$.\n",
        "2. Determinar cuál es el ajuste de las $x$ que tiene mayor influencia para que $y$ esté cerca del **valor deseado**.\n",
        "3. Determinar cuál es el ajuste de las $x$ que tiene mayor influencia para que la **variabilidad de $y$ sea reducida**.\n",
        "4. Determinar cuál es el ajuste de las $x$ que tiene mayor influencia para que los **efectos de las variables no controlables $z_{1},z_{2},\\dots, z_{m}$ sean mínimos**\n",
        "\n",
        "\n",
        "\n",
        "El objetivo, la mayoría de las veces, es desarrollar un proceso robusto, es decir, un proceso que sea afectado en forma mínima por fuentes de variabilidad externas.\n",
        "\n",
        "\n",
        "El diseño estadístico de experimentos se refiere al proceso para planear el experimento de tal forma que se recaben datos adecuados que puedan analizarse con métodos estadísticos que llevarán a conclusiones válidas y objetivas.\n",
        "\n"
      ]
    },
    {
      "cell_type": "markdown",
      "metadata": {
        "id": "i19RM_Zyw72l",
        "colab_type": "text"
      },
      "source": [
        "## Pautas generales para diseñar experimentos\n",
        "\n",
        "\n",
        "1. **Identificación y exposición del problema:** Definición de la hipótesis que motiva el experimento, por ejemplo, mejorar el desempeño del modelo en un 20%.\n",
        "\n",
        "2. **Elección de los factores, niveles y rangos:** Se deben considerar todos los factores que produzcan variabilidad en el proceso. Pueden clasificarse como factores controlables o no controlables. En esta etapa se deben definir los rangos en los que varían los factores y los niveles con los que se realizaran las corridas.\n",
        "\n",
        "3. **Selección de la variable de respuesta:** En algunos casos el promedio o la desviación estándar (o ambas) de la característica medida es la variable de respuesta.\n",
        "\n",
        "4. **Elección del diseño experimental:** Implica la consideración del tamaño de la muestra y selección de un orden de corridas adecuado para los ensayos experimentales. En muchos experimentos se sabe de antemano que algunos niveles de los factores producirán valores diferentes de la respuesta. En estos casos, el interés se centra en identificar qué factores causan esta diferencia y estimar la magnitud del cambio de la respuesta. \n",
        "5. **Realización del experimento:** Es vital monitorear con atención el proceso a fin de asegurarse que todo salga conforme al plan. Por ejemplo, verificar que no haya errores en la ejecución de un programa o al optimizar o paralelizar un algoritmo que independientemente del *speedup* o aceleración obtenida, la salida siga siendo correcta. También, es conveniente en muchas ocasiones realizar algunas corridas piloto o de prueba. Estas pruebas proporcionan una aproximación del error experimental y permiten poner en práctica la técnica experimental global. Por ejemplo, al entrenar una red neuronal.\n",
        "6.  **Análisis estadístico de los datos:** Es importante usar métodos estadísticos para analizar los datos a fin de que los resultados y conclusiones sean objetivos y no de carácter apreciativo. Por ejemplo, el análisis podría consistir en calcular intervalos de confianza (para cada tratamiento\n",
        "específico), realizar pruebas de hipótesis,  análisis gráfico y muchas técnicas más complejas. Los métodos estadísticos nos permiten medir el error posible en una conclusión o asignar un nivel de confianza a un enunciado. Las técnicas estadísticas, en conjunto con una buena ingeniería o conocimiento del proceso y el sentido común, llevarán por lo general a conclusiones sólidas.\n",
        "7.  **Conclusiones y recomendaciones:** Una vez que se han analizado los datos, el experimentador debe sacar conclusiones prácticas acerca de los resultados y recomendar un curso de acción. Muchas veces el experimento puede contribuir\n",
        "a redefinir los nuevos experimentos pues la experimentación suele ser un proceso iterativo. En general, se aprende sobre la marcha: a medida que avanza un programa experimental es común abandonar algunas variables de entrada e incorporar otras, modificar la región de exploración de algunos factores o incorporar nuevas variables de respuesta.\n",
        "\n",
        "\n",
        "A continuación se examinará el Análisis de Varianza (ANOVA), como\n",
        "método estadístico de análisis de resultados experimentales. Los experimentos\n",
        "diseñados con criterio estadístico, permiten validar con **objetividad\n",
        "científica** las conjeturas, y construir conclusiones con bases robustas.\n",
        "\n"
      ]
    },
    {
      "cell_type": "markdown",
      "metadata": {
        "id": "T7-aQ8JWWhx8",
        "colab_type": "text"
      },
      "source": [
        "# Análisis de Varianza\n",
        "\n",
        "Considere el siguiente ejemplo: \n",
        "\n",
        "\n",
        "Suponga que se tienen $a$ **tratamientos** o **niveles** diferentes de un **factor** y desean compararse. La respuesta observada de cada uno de los $a$ tratamientos es una variable aleatoria. \n",
        "![](https://drive.google.com/uc?export=view&id=1Dm_Ip_dsJl5P-AASUkx2Ozp_5NbYlBrj)\n",
        "\n",
        "\n",
        "Donde: \n",
        "\n",
        " \n",
        "- $y_{i.}=\\sum_{j=1}^{n}y_{i,j}$: corresponde a la **sumatoria de las observaciones para el tratamiento** $i$.\n",
        "\n",
        "- $\\overline{y}_{i.}=\\frac{y_{i.}}{n}$:  corresponde a la **media de las observaciones para el tratamiento** $i$.\n",
        "\n",
        "- $y_{..}=\\sum_{i=1}^{a}\\sum_{j=1}^{n}y_{i,j}$: corresponde al **gran total** y representa el total de todas las observaciones para todos los tratamientos.\n",
        "\n",
        "- $\\overline{y_{..}}=\\frac{y_{..}}{N}$: corresponde al **gran promedio** y representa el promedio de todas las observaciones para todos los tratamientos. Con $N=a n$.\n",
        "\n",
        "\n",
        "\n",
        "\n",
        "Las entradas de la tabla anterior pueden expresarse en la matriz $y_{i,j}$ para la observación $j$ tomada bajo el tratamiento $i$. En general, habrán $n$ observaciones bajo el tratamiento *i-ésimo*. El orden en que se tomen las observaciones debe ser aleatorio, garantizando que el experimento sea lo más uniforme posible, por tanto, se trata de un **diseño completamente aleatorizado**.\n",
        "\n",
        "Estas observaciones pueden ser descritas bajo el siguiente modelo lineal estadístico:\n",
        "\\begin{equation}\n",
        "y_{i,j}=\\mu_{i}+\\epsilon_{i,j}=\\mu+\\tau_{i}+\\epsilon_{i,j}\\quad\\begin{cases}\n",
        "i=1,2,\\ldots,a & (\\textrm{niveles})\\\\\n",
        "j=1,2,\\ldots,n & (\\textrm{observaciones})\n",
        "\\end{cases}\n",
        "\\end{equation}\n",
        "\n",
        "Donde: \n",
        "\n",
        " - $\\mu$: es un parámetro común a todos los tratamientos denominado la **media global**. \n",
        " - $\\tau_{i}$: se trata de un parámetro asociado al tratamiento *i-ésimo* y se conoce como **efecto del tratamiento $i$**. Se interpreta como la desviación de $\\mu$ cuando se aplica el tratamiento $i$.\n",
        " - $\\epsilon_{i,j}$: es un componente de **error aleatorio** que incorpora todas las fuentes de variabilidad.\n",
        " \n",
        " \n",
        " ### Supuestos del análisis de varianza\n",
        " \n",
        " 1. Los errores $\\epsilon_{ij}$ son variables aleatorias independientes que siguen una distribución normal con media $0$ y varianza $\\sigma^2$. \n",
        " \n",
        "2. $\\sigma^2$ es constante para todos los niveles del factor.\n",
        "\n",
        "Lo anterior implica: \n",
        "\n",
        "\\begin{equation}\n",
        "y_{ij} \\sim \\mathcal{N} (\\mu+\\tau_{i},\\sigma^2)\n",
        "\\end{equation}\n",
        "\n",
        "![](https://drive.google.com/uc?export=view&id=1pNG1JL4-7SMSHR_ZYKBb1D1MOj_ivhPz)\n",
        "\n",
        "Con este modelo se intenta probar la siguiente hipótesis de igualdad de medias de los tratamientos:\n",
        "\n",
        "\\begin{equation}\n",
        "H_{0}:\\mu_{1}=\\mu_{2}=\\dots=\\mu_{a} \\\\\n",
        "H_{1}: \\mu_{i}\\neq\\mu_{j} \\space \\text{para al menos un par}(i,j)\n",
        "\\end{equation}\n",
        "\n",
        "Esta hipótesis puede volver a expresarse en términos de los efectos de los tratamientos de la siguiente manera: \n",
        "\n",
        "\\begin{equation}\n",
        "H_{0}:\\tau_{1}=\\tau_{2}=\\dots=\\tau_{a} = 0\\\\\n",
        "H_{1}: \\tau_{i}\\neq 0 \\space \\text{para al menos una i}\n",
        "\\end{equation}\n",
        "\n",
        "Por lo tanto, si la hipótesis nula es verdadera, cada observación $y_{i,j}$ \n",
        "estaría compuesta por la media global $\\mu$ más el componente de error aleatorio $\\epsilon_{i,j}$. Esto es equivalente a decir que todas las $N$ observaciones son tomadas de una distribución normal con media $\\mu$ y varianza $\\sigma^2$. Por lo tanto, si la hipótesis nula es verdadera, cambiar los niveles del factor no tiene efecto sobre la respuesta promedio. \n",
        "\n",
        " \n",
        "\n",
        "\n",
        "\n",
        "\n",
        "\n"
      ]
    },
    {
      "cell_type": "markdown",
      "metadata": {
        "id": "XYhmqxDx4Ktm",
        "colab_type": "text"
      },
      "source": [
        "### Medición de variabilidad\n",
        "El ANOVA particiona la variabilidad total, descrita por la **suma total\n",
        "de cuadrados**: \n",
        "\n",
        "\\begin{equation}\n",
        "SS_{T}=\\sum_{i=1}^{a}\\sum_{j=1}^{n}\\left(y_{i,j}-\\overline{y_{..}}\\right)^{2}\n",
        "\\end{equation}\n",
        "\n",
        "de la siguiente forma: \n",
        "\n",
        "\\begin{equation}\n",
        "SS_{T}=\\sum_{i=1}^{a}\\sum_{j=1}^{n}\\left[(y_{i,j}-\\overline{y_{i.}})+(\\overline{y}_{i.}-\\overline{y}_{..}\\right)]^{2}=\\sum_{i=1}^{a}\\sum_{j=1}^{n}\\left(y_{i,j}-\\overline{y}_{i.}\\right)^{2}+\\sum_{i=1}^{a}\\sum_{j=1}^{n}\\left(\\overline{y}_{i.}-\\overline{y_{..}}\\right)^{2}\n",
        "\\end{equation}\n",
        "\n",
        "y como el segundo término no depende de $j$, entonces: \n",
        "\n",
        "\\begin{equation}\n",
        "SS_{T}=\\sum_{i=1}^{a}\\sum_{j=1}^{n}\\left(y_{i,j}-\\overline{y}_{i.}\\right)^{2}+n\\sum_{i=1}^{a}\\left(\\overline{y}_{i.}-\\overline{y_{..}}\\right)^{2}\n",
        "\\end{equation}\n",
        "\n",
        "donde los términos se renombran como: \n",
        "\n",
        "\\begin{equation}\n",
        "SS_{T}=SS_{\\textrm{error}}+SS_{\\textrm{tratamiento}}\n",
        "\\end{equation}\n",
        "\n",
        "donde: \n",
        "\n",
        "- $SS_{\\textrm{error}}$:\n",
        "corresponde a la desviación de las observaciones respecto a cada media de tratamiento $\\overline{y}_{i.}$, es decir es la variación dentro de los tratamientos. \n",
        "- $SS_{\\textrm{tratamiento}}$:\n",
        "corresponde a la desviación de cada media de tratamiento $\\overline{y}_{i.}$\n",
        "respecto a la gran media $\\overline{y_{..}}$ , es decir es la variación entre los tratamientos.\n",
        "\n",
        "Las diferentencias capturadas por $SS_{\\textrm{tratamiento}}$ reflejan la posible variación real entre tratamientos aplicados, mientras que las diferencias entre las observaciones de un mismo tratamiento con respecto a la media del tratamiento (capturadas por $SS_{\\textrm{error}}$) deberían ser causadas únicamente por errores aleatorios.\n",
        "\n"
      ]
    },
    {
      "cell_type": "markdown",
      "metadata": {
        "id": "97Bobv-x4YUU",
        "colab_type": "text"
      },
      "source": [
        "### Esperanza de componentes ANOVA\n",
        "Como hemos abordado anteriormente, para poder hacer una prueba de hipótesis es necesario basarla en la esperanza de un evento, para poder definir intervalos de confianza.\n",
        "\n",
        "Siguiendo la definición bipartita anterior, podemos desagregar la esperanza de cada uno de los componentes. Primero, la esperanza de la variación entre medias de tratamiento y la media global está dada por:\n",
        "\n",
        "\\begin{equation}\n",
        "\\mathrm{E}\\left(SS_{\\textrm{tratamiento}}\\right)=(a-1)\\sigma^2+n\\sum_{i=1}^{a}\\tau_i^2\n",
        "\\end{equation}\n",
        "\n",
        "Para la variación dentro del tratamiento la esperanza está dada por:\n",
        "\n",
        "\\begin{equation}\n",
        "\\mathrm{E}\\left(SS_{\\textrm{error}}\\right)=a(n-1)\\sigma^2\n",
        "\\end{equation}\n",
        "\n",
        "El número de grados de libertad no es el mismo para los dos componentes. En el caso de la **variación entre tratamientos ($SS_{tratamiento}$)**, no depende de las repeticiones, sólo de los tratamientos $a$. Por lo tanto, tiene $a-1$ grados de libertad y la **variación dentro de los tratamientos ($SS_{eror}$)**  tiene $N-a$ grados de libertad. Los grados de libertad de la **variabilidad total** $(SS_{T})$ son $N-1$.\n",
        "\n",
        "\n",
        "### ¿Qué son los grados de libertad y por qué son tan importantes para las pruebas?\n",
        "\n",
        "Los grados de libertad (GL) indican cuánta información aportan los datos para estimar los parámetros poblacionales desconocidos a partir de una muestra y sus variabilidades. \n",
        "Los GL se calculan  a partir de la cantidad de observaciones en la muestra y la cantidad de parámetros que se vayan a estimar.\n",
        "\n",
        "$$gl = n_{muestra} - p_{parámetros} $$\n",
        "\n",
        "A mayor tamaño de muestra tenemos más información y más grados de libertad. \n",
        "Por ejemplo si se va a construir un modelo que estime $p$ parámetros el tamaño de la muestra siempre debe ser mayor, ya que al aumentar el número de parámetros \"gastamos\" más información de la muestra estimándolos."
      ]
    },
    {
      "cell_type": "markdown",
      "metadata": {
        "id": "YP_7DilKAorn",
        "colab_type": "text"
      },
      "source": [
        "### Media cuadrada para la inter e intra variación\n",
        "El objetivo final planteado es evaluar si la hipótesis nula, que dice que los tratamientos no se diferencian, se cumple. Esto se puede abordar analizando la variación dentro de los tratamientos. Podemos utilizar un estimador de la varianza de $SS_{\\textrm{tratamiento}}$:\n",
        "\n",
        "\\begin{equation}\n",
        "\\textrm{MS}_\\textrm{tratamiento}=\\dfrac{SS_{\\textrm{tratamiento}}}{a-1}\n",
        "\\end{equation}\n",
        "\n",
        "donde $\\textrm{MS}_\\textrm{tratamiento}$ es llamada la **media cuadrada para los tratamientos** o **media cuadrada para la inter variación**. Ahora, si la hipótesis nula $H_0:\\tau_1=\\tau_1=...=\\tau_a=0$ es cierta, $\\textrm{MS}_\\textrm{tratamiento}$ es un estimador no sesgado de la varianza $\\sigma^2$ porque $\\sum_{i=1}^a\\tau_i=0$. En caso contrario, cuando $H_1$ se cumple, $\\textrm{MS}_\\textrm{tratamiento}$ estima $\\sigma^2$ más un valor positivo que explica la variación debido a la diferencia entre las medias de los tratamientos.\n",
        "\n",
        "Podemos hacer un ejercicio análogo para la variación dentro de tratamientos, utilizando los grados de libertad correspondientes:\n",
        "\n",
        "\\begin{equation}\n",
        "\\textrm{MS}_\\textrm{error}=\\dfrac{SS_{\\textrm{error}}}{a(n-1)}\n",
        "\\end{equation}\n",
        "\n",
        "donde $\\textrm{MS}_\\textrm{error}$ es llamada **la media cuadrada para el error** o **media cuadrada para la intra variación**. En este caso, $\\textrm{MS}_\\textrm{error}$ es un estimador sin sesgo de $\\sigma^2$, independiente de si $H_0$ es verdadera o no."
      ]
    },
    {
      "cell_type": "markdown",
      "metadata": {
        "id": "uYtYtSrkDyHr",
        "colab_type": "text"
      },
      "source": [
        "###Evaluación de la prueba de hipótesis\n",
        "\n",
        "Tomando como base las dos proposiciones anteriores, definimos una estadística que nos permitirá aceptar o rechazar la hipótesis:\n",
        "\n",
        "\\begin{equation}\n",
        "F_0=\\dfrac{\\textrm{MS}_\\textrm{tratamiento}}{\\textrm{MS}_\\textrm{error}}\n",
        "\\end{equation}\n",
        "\n",
        "$F_0$ sigue una distribución $F$ con $a-1$ y $N-a$ grados de libertad (en el numerador y denominador respectivamente), y deberíamos rechazar $H_0$ en caso que la estadística sea grande. Numéricamente, rechazamos cuando\n",
        "\n",
        "\\begin{equation}\n",
        "F_0>F_{\\alpha,a-1,N-a},\n",
        "\\end{equation}\n",
        "\n",
        "por lo cual, la región de rechazo estará en la cola superior de la distribución $F$. La tabla a continuación, denominada **tabla ANOVA o tabla de análisis de varianza**, resume los componentes que deben calcularse para evaluar la hipótesis.\n",
        "\n",
        "![](https://drive.google.com/uc?export=view&id=1dKlHBYXf9sJ-BmO_Yyi4zcpohb8c9SGR)\n",
        "\n",
        "tómese $\\textrm{MS}_E=\\textrm{MS}_\\textrm{error}$."
      ]
    },
    {
      "cell_type": "code",
      "metadata": {
        "id": "MiqLqMMTN1oN",
        "colab_type": "code",
        "outputId": "ec0e5d08-03f1-4fea-e59e-6195b7e69a15",
        "colab": {
          "base_uri": "https://localhost:8080/",
          "height": 67
        }
      },
      "source": [
        "from scipy.stats import f,norm\n",
        "\n",
        "#Valor de comparación usando\n",
        "#Nivel de confianza: 0.99\n",
        "#Tratamientos: 4\n",
        "#total de observaciones: 24 (6 por tratamiento)\n",
        "\n",
        "print(f.ppf(0.99,3,20))\n",
        "print(f.cdf(4.9381933823,3,20))\n",
        "#print(norm.ppf(0.975))"
      ],
      "execution_count": 0,
      "outputs": [
        {
          "output_type": "stream",
          "text": [
            "4.938193382310539\n",
            "0.9899999999999142\n",
            "1.959963984540054\n"
          ],
          "name": "stdout"
        }
      ]
    }
  ]
}