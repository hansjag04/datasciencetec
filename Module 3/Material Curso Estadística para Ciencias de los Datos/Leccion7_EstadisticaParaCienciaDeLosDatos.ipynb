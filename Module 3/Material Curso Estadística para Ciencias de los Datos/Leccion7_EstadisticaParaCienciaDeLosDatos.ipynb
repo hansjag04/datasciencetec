{
  "nbformat": 4,
  "nbformat_minor": 0,
  "metadata": {
    "colab": {
      "name": "Leccion7_EstadisticaParaCienciaDeLosDatos.ipynb",
      "provenance": [],
      "collapsed_sections": []
    },
    "kernelspec": {
      "name": "python3",
      "display_name": "Python 3"
    }
  },
  "cells": [
    {
      "cell_type": "markdown",
      "metadata": {
        "id": "sPD8sqQXo3_P",
        "colab_type": "text"
      },
      "source": [
        "# Estadística para Ciencia de los Datos - Lección 7\n",
        "\n",
        "Autor: Saúl Calderón, Juan Esquivel, Jorge Castro"
      ]
    },
    {
      "cell_type": "markdown",
      "metadata": {
        "id": "ok9YXnDIo77r",
        "colab_type": "text"
      },
      "source": [
        "# Remuestreo\n",
        "\n",
        "Se le denomina remuestreo al proceso de tomar múltiples muestras sobre una misma población base. \n",
        "Los métodos estadísticos de remuestreo nos permiten  estimar parámetros poblacionales y **cuantificar la incertidumbre del estimado** (similar a los intervalos de confianza). Además se pueden usar para **evaluar y mejorar la exactitud de algunos modelos de aprendizaje automático**.\n",
        "\n",
        "\n",
        "En general, los métodos de remuestreo son fáciles de usar y requieren poco conocimiento matemático en comparación a otros métodos de estadística inferencial. El remuestreo no se realiza para proveer un estimado sobre la distribución poblacional, sino más bien para proveer un estimado de la distribución muestral del estadístico de interés. A continuación veremos dos métodos de remuestreo: Bootstrap y Empaquetamiento (*bagging*).\n"
      ]
    },
    {
      "cell_type": "markdown",
      "metadata": {
        "id": "lEzRh_1hp2Lz",
        "colab_type": "text"
      },
      "source": [
        "## Bootstrap\n",
        "\n",
        "Una manera efectiva y sencilla de estimar la distribución muestral de un estadístico, consiste en extraer muestras adicionales (bootstrap samples) con reemplazo de la misma muestra y recalcular el estadístico para cada remuestreo. A este procedimiento se le conoce como *Bootstrap* y no requiere necesariamente de ninguna suposición sobre la normalidad de los datos o el estadístico de interés.\n",
        "\n",
        "El algoritmo de bootstrap para una muestra de tamaño $n$ con $R$ iteraciones se detalla a continuación:\n",
        "\n",
        "1. Tomar una observación y guardarla con reemplazo (es decir, no se elimina la observación tomada del conjunto de datos).\n",
        "2.  Repetir $n$ veces.\n",
        "3. Calcular la media de los $n$ valores remuestreados.\n",
        "4. Repetir los pasos del 1 al 3 $R$ veces.\n",
        "5. Usar los $R$ resultados para:\n",
        "  - Calcular su desviación estándar (que estima la desviación estándar de la media muestral $\\sigma_{\\overline{x}}$).\n",
        "  - Producir un histograma o *boxplot*.\n",
        "  - Encontrar un intervalo de confianza.\n",
        "\n",
        "Entre más iteraciones $R$ se ejecuten más preciso será el estimado de $\\sigma_{\\overline{x}}$ y el intervalo de confianza. El resultado del algoritmo de *Bootstrap* es un conjunto de estadísticas muestrales o parámetros estimados del modelo que se pueden examinar para ver que tan variables son. En la práctica un modelo se puede ejecutar sobre los datos producidos con el Bootstrap para estimar la estabilidad de los parámetros del modelo o para mejorar su poder predictivo.\n",
        "\n",
        "Es importante entender que la técnica de *bootstrap* no es una compensación para tamaños de muestra pequeños, tampoco crea datos nuevos ni rellena hoyos en un conjunto de datos existente. Tan solo informa sobre como una gran cantidad de muestras adicionales se comportarían si se toman de una población como la de nuestra muestra original. Una desventaja del bootstrap es que puede ser computacionalmente costoso.\n",
        "\n",
        "Finalmente, sobre el Bootstrap cabe resaltar que:\n",
        "\n",
        "1. Permite evaluar la variabilidad de un estadístico muestral.\n",
        "2. Permite estimar las distribuciones muestrales de estadísticos para los cuales no se ha desarrollado una aproximación matemática.\n",
        "3. Cuando se aplica modelos predictivos, la agregación de múltiples predicciones muestrales basadas en bootstrap (bagging) suele ser superior al uso de un único modelo"
      ]
    },
    {
      "cell_type": "markdown",
      "metadata": {
        "id": "PXeTqXVxrW3b",
        "colab_type": "text"
      },
      "source": [
        "## Empaquetado o bagging\n",
        "\n",
        "*Bagging* se refiere a un meta-algoritmo de aprendizaje por ensambles\n",
        "o *consejos*, diseñado para mejorar la estabilidad de las predicciones en modelos de regresión o clasificación.\n",
        "\n",
        "Sea un conjunto de observaciones de entrenamiento:\n",
        "\n",
        "\\begin{equation}\n",
        "X=\\left\\{ \\overrightarrow{x}_{1},\\overrightarrow{x}_{2},\\ldots,\\overrightarrow{x}_{k}\\right\\} ,\n",
        "\\end{equation}\n",
        "\n",
        " el empaquetamiento genera entonces $m$ nuevos conjuntos de datos $\\left\\{ X_{1},\\ldots,X_{m}\\right\\} $, con cada conjunto de datos compuesto por $k$ observaciones, muestreadas del conjunto de datos original $X$ **con reemplazo**. Para cada conjunto de datos $X_{i}$ (conocido como **muestra bootstrap**) el método de empaquetado propone crear y entrenar un modelo $c_{i}\\left(X_i\\right)$. Finalmente, \n",
        "los resultados de cada modelo son **promediados (para el caso de la regresión)**\n",
        "o utilizados para realizar una **votación (en el caso de la\n",
        "clasificación)**.\n",
        "\n",
        "El empaquetado es recomendado para casos donde los modelos presentan\n",
        "una variabilidad alta en sus salidas, por lo que puede estabilizar\n",
        "las predicciones, sin embargo, en casos donde la variabilidad de la\n",
        "predicción en el modelo sea baja, el empaquetado puede degradar la\n",
        "exactitud de las predicciones. "
      ]
    },
    {
      "cell_type": "markdown",
      "metadata": {
        "id": "8qvE3y4sx4gb",
        "colab_type": "text"
      },
      "source": [
        "# Ejemplo diabetes\n",
        "\n",
        "(Tomado de https://www.kaggle.com/kumargh/pimaindiansdiabetescsv):\n",
        "\n",
        "Predicción sobre desarrollo de diabetes en pacientes (o no) en los próximos 5 años. Descripción de los atributos extraída de kaggle:\n",
        "\n",
        " $x_0$:  Number of times pregnant.\n",
        " \n",
        " $x_1:$ Plasma glucose concentration a 2 hours in an oral glucose tolerance test.\n",
        " \n",
        " $x_2:$ Diastolic blood pressure (mm Hg).\n",
        " \n",
        " $x_3:$ Triceps skinfold thickness (mm).\n",
        " \n",
        " $x_4:$ 2-Hour serum insulin (mu U/ml).\n",
        " \n",
        " $x_5:$ Body mass index (weight in kg/(height in m)^2).\n",
        " \n",
        " $x_6:$ Diabetes pedigree function.\n",
        " \n",
        " $x_7: $Age (years).\n",
        "\n",
        "La columna número 8 representa el objetivo de predicción $t$ (desarrollo de diabetes o no). Por lo tanto, cada observación está dado por $\\vec{x} \\in \\mathbb{R}^8$ y el problema a abordar es una clasificación binaria (desarrollar diabetes o no).\n",
        "\n",
        "El conjunto de datos tiene $m=768$ observaciones o muestras.\n",
        "\n",
        "Un modelo lineal base da una certeza de 65% de predicción, mientras que los mejores resultados rondan 77%."
      ]
    },
    {
      "cell_type": "code",
      "metadata": {
        "id": "zhDpN5rWs-qT",
        "colab_type": "code",
        "outputId": "5eee838b-68f6-4604-c804-e34921959d71",
        "colab": {
          "resources": {
            "http://localhost:8080/nbextensions/google.colab/files.js": {
              "data": "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",
              "ok": true,
              "headers": [
                [
                  "content-type",
                  "application/javascript"
                ]
              ],
              "status": 200,
              "status_text": ""
            }
          },
          "base_uri": "https://localhost:8080/",
          "height": 74
        }
      },
      "source": [
        "from google.colab import files\n",
        "uploaded = files.upload()"
      ],
      "execution_count": 0,
      "outputs": [
        {
          "output_type": "display_data",
          "data": {
            "text/html": [
              "\n",
              "     <input type=\"file\" id=\"files-9e91e2ee-4bec-449f-ad63-662837a64cf7\" name=\"files[]\" multiple disabled />\n",
              "     <output id=\"result-9e91e2ee-4bec-449f-ad63-662837a64cf7\">\n",
              "      Upload widget is only available when the cell has been executed in the\n",
              "      current browser session. Please rerun this cell to enable.\n",
              "      </output>\n",
              "      <script src=\"/nbextensions/google.colab/files.js\"></script> "
            ],
            "text/plain": [
              "<IPython.core.display.HTML object>"
            ]
          },
          "metadata": {
            "tags": []
          }
        },
        {
          "output_type": "stream",
          "text": [
            "Saving pima-indians-diabetes.csv to pima-indians-diabetes.csv\n"
          ],
          "name": "stdout"
        }
      ]
    },
    {
      "cell_type": "code",
      "metadata": {
        "id": "zc-OPvau1bEf",
        "colab_type": "code",
        "outputId": "d095c602-364a-49ce-ac60-6c969cc8c416",
        "colab": {
          "base_uri": "https://localhost:8080/",
          "height": 739
        }
      },
      "source": [
        "from pandas import read_csv\n",
        "import numpy as np\n",
        "import io\n",
        "\n",
        "from sklearn.discriminant_analysis import LinearDiscriminantAnalysis\n",
        "from sklearn.model_selection import KFold\n",
        "from sklearn.model_selection import cross_val_score\n",
        "from sklearn.linear_model import Perceptron\n",
        "\n",
        "#read the dataset from csv\n",
        "dataset = read_csv('pima-indians-diabetes.csv', header=None)\n",
        "\n",
        "#print descriptive stats\n",
        "print(dataset.describe())\n",
        "\n",
        "# print the first 20 rows of data\n",
        "print(dataset.head(20))\n",
        "\n",
        "print(\"number of zeros per column\")\n",
        "print((dataset == 0).astype(int).sum())\n"
      ],
      "execution_count": 0,
      "outputs": [
        {
          "output_type": "stream",
          "text": [
            "                0           1           2  ...           6           7           8\n",
            "count  768.000000  768.000000  768.000000  ...  768.000000  768.000000  768.000000\n",
            "mean     3.845052  120.894531   69.105469  ...    0.471876   33.240885    0.348958\n",
            "std      3.369578   31.972618   19.355807  ...    0.331329   11.760232    0.476951\n",
            "min      0.000000    0.000000    0.000000  ...    0.078000   21.000000    0.000000\n",
            "25%      1.000000   99.000000   62.000000  ...    0.243750   24.000000    0.000000\n",
            "50%      3.000000  117.000000   72.000000  ...    0.372500   29.000000    0.000000\n",
            "75%      6.000000  140.250000   80.000000  ...    0.626250   41.000000    1.000000\n",
            "max     17.000000  199.000000  122.000000  ...    2.420000   81.000000    1.000000\n",
            "\n",
            "[8 rows x 9 columns]\n",
            "     0    1   2   3    4     5      6   7  8\n",
            "0    6  148  72  35    0  33.6  0.627  50  1\n",
            "1    1   85  66  29    0  26.6  0.351  31  0\n",
            "2    8  183  64   0    0  23.3  0.672  32  1\n",
            "3    1   89  66  23   94  28.1  0.167  21  0\n",
            "4    0  137  40  35  168  43.1  2.288  33  1\n",
            "5    5  116  74   0    0  25.6  0.201  30  0\n",
            "6    3   78  50  32   88  31.0  0.248  26  1\n",
            "7   10  115   0   0    0  35.3  0.134  29  0\n",
            "8    2  197  70  45  543  30.5  0.158  53  1\n",
            "9    8  125  96   0    0   0.0  0.232  54  1\n",
            "10   4  110  92   0    0  37.6  0.191  30  0\n",
            "11  10  168  74   0    0  38.0  0.537  34  1\n",
            "12  10  139  80   0    0  27.1  1.441  57  0\n",
            "13   1  189  60  23  846  30.1  0.398  59  1\n",
            "14   5  166  72  19  175  25.8  0.587  51  1\n",
            "15   7  100   0   0    0  30.0  0.484  32  1\n",
            "16   0  118  84  47  230  45.8  0.551  31  1\n",
            "17   7  107  74   0    0  29.6  0.254  31  1\n",
            "18   1  103  30  38   83  43.3  0.183  33  0\n",
            "19   1  115  70  30   96  34.6  0.529  32  1\n",
            "number of zeros per column\n",
            "0    111\n",
            "1      5\n",
            "2     35\n",
            "3    227\n",
            "4    374\n",
            "5     11\n",
            "6      0\n",
            "7      0\n",
            "8    500\n",
            "dtype: int64\n"
          ],
          "name": "stdout"
        }
      ]
    },
    {
      "cell_type": "markdown",
      "metadata": {
        "id": "MgvCjrjR2wUd",
        "colab_type": "text"
      },
      "source": [
        "## Marcar datos nulos\n",
        "\n",
        "En algunas columnas como \"Triceps skinfold thickness\" o \"diastolic pressure\", los valores de cero no tienen sentido. \n",
        "Una posible estrategia para trabajar con estos valores inválidos o faltantes consiste en eliminar todas las observaciones (filas) que contengan al menos una columna con algún valor faltante.\n",
        "\n",
        "\n",
        "Para las columnas del 1-5 los valores 0 primero serán reemplazados por `NaN` usando la función `replace`. Luego se borran todas las filas con valores `NaN`, lo cuál incrementa el riesgo de *over fitting*. (ejercicio posterior: usar al menos 2 técnicas más de imputación y aplicar la técnica de bagging)"
      ]
    },
    {
      "cell_type": "code",
      "metadata": {
        "id": "Yxp1vmUU4VEZ",
        "colab_type": "code",
        "outputId": "df21f3f3-9e5c-4983-be55-bbd5008971f8",
        "colab": {
          "base_uri": "https://localhost:8080/",
          "height": 571
        }
      },
      "source": [
        "dataset[[1,2,3,4,5]] = dataset[[1,2,3,4,5]].replace(0, np.NaN)\n",
        "print(\"Number of null observations per column: \")\n",
        "print(dataset.isnull().sum())\n",
        "\n",
        "#we can eliminate the observations or samples with nans\n",
        "dataset = dataset.dropna()\n",
        "print(\"Number of null observations per column after NaN entry deletion: \")\n",
        "print(dataset.isnull().sum())\n",
        "\n",
        "#print descriptive stats\n",
        "print(dataset.describe())"
      ],
      "execution_count": 0,
      "outputs": [
        {
          "output_type": "stream",
          "text": [
            "Number of null observations per column: \n",
            "0    0\n",
            "1    0\n",
            "2    0\n",
            "3    0\n",
            "4    0\n",
            "5    0\n",
            "6    0\n",
            "7    0\n",
            "8    0\n",
            "dtype: int64\n",
            "Number of null observations per column after NaN entry deletion: \n",
            "0    0\n",
            "1    0\n",
            "2    0\n",
            "3    0\n",
            "4    0\n",
            "5    0\n",
            "6    0\n",
            "7    0\n",
            "8    0\n",
            "dtype: int64\n",
            "                0           1           2  ...           6           7           8\n",
            "count  392.000000  392.000000  392.000000  ...  392.000000  392.000000  392.000000\n",
            "mean     3.301020  122.627551   70.663265  ...    0.523046   30.864796    0.331633\n",
            "std      3.211424   30.860781   12.496092  ...    0.345488   10.200777    0.471401\n",
            "min      0.000000   56.000000   24.000000  ...    0.085000   21.000000    0.000000\n",
            "25%      1.000000   99.000000   62.000000  ...    0.269750   23.000000    0.000000\n",
            "50%      2.000000  119.000000   70.000000  ...    0.449500   27.000000    0.000000\n",
            "75%      5.000000  143.000000   78.000000  ...    0.687000   36.000000    1.000000\n",
            "max     17.000000  198.000000  110.000000  ...    2.420000   81.000000    1.000000\n",
            "\n",
            "[8 rows x 9 columns]\n"
          ],
          "name": "stdout"
        }
      ]
    },
    {
      "cell_type": "markdown",
      "metadata": {
        "id": "wXmxHebr4v81",
        "colab_type": "text"
      },
      "source": [
        "## Bagging / Ensemble Learning\n",
        "\n",
        "Código base para aplicar *Bagging* (aprendizaje por ensambles\n",
        "o *consejos*) para clasificación, con votación para la decisión final."
      ]
    },
    {
      "cell_type": "code",
      "metadata": {
        "id": "4LPuzOe-5Y0v",
        "colab_type": "code",
        "outputId": "972a76ec-c698-4b68-8033-075f32a3f972",
        "colab": {
          "base_uri": "https://localhost:8080/",
          "height": 50
        }
      },
      "source": [
        "# split dataset into inputs and outputs\n",
        "from sklearn.neighbors import KNeighborsClassifier\n",
        "from scipy import stats\n",
        "from sklearn import tree\n",
        "from sklearn.linear_model import SGDClassifier\n",
        "from sklearn.metrics import f1_score\n",
        "from sklearn.metrics import accuracy_score\n",
        "\n",
        "#Model test function\n",
        "def testModel(dataset):\n",
        "  values = dataset.values\n",
        "  \n",
        "  \n",
        "  Xtraining = values[:292,0:8]\n",
        "  Ttraining = values[:292,8]\n",
        "  \n",
        "  Xtest = values[292:,0:8]\n",
        "  Ttest = values[292:,8]\n",
        "\n",
        "  #use K-nearest Neighbors Classifier and two Decision Trees\n",
        "  model1 = KNeighborsClassifier() \n",
        "  model2 = tree.DecisionTreeClassifier(criterion='entropy') \n",
        "  model3 = tree.DecisionTreeClassifier(criterion='gini')\n",
        "  \n",
        "  #fit models\n",
        "  model1.fit(Xtraining, Ttraining)\n",
        "  model2.fit(Xtraining, Ttraining) \n",
        "  model3.fit(Xtraining, Ttraining) \n",
        "  \n",
        "  #make final predictions\n",
        "  predictions1 = model1.predict(Xtest)\n",
        "  predictions2 = model2.predict(Xtest)\n",
        "  predictions3 = model3.predict(Xtest)\n",
        "  \n",
        "   \n",
        "  finalPredictions = np.array([])\n",
        "  \n",
        "  for i in range(0, len(Ttest)):\n",
        "    mode = stats.mode([predictions1[i], predictions2[i], predictions3[i]])    \n",
        "    #print(\"Mode \", mode, \" p1 \", predictions1[i],  \" p2 \", predictions2[i], \" p3 \", predictions3[i])   \n",
        "    #Prediction of the ensemble\n",
        "    finalPredictions = np.append(finalPredictions, mode[0]) \n",
        "\n",
        "  #Evaluation metric\n",
        "  dist1 = accuracy_score(Ttest, predictions1) \n",
        "  dist2 = accuracy_score(Ttest, predictions2) \n",
        "  dist3 = accuracy_score(Ttest, predictions3) \n",
        "  distEnsemble = accuracy_score(Ttest, finalPredictions)\n",
        "  \n",
        "  print(\"D1 \", dist1, \" D2 \", dist2, \" D3 \", dist3)\n",
        "  print(\"Ensemble \", distEnsemble)\n",
        "\n",
        "  \n",
        "#Function call  \n",
        "testModel(dataset)"
      ],
      "execution_count": 0,
      "outputs": [
        {
          "output_type": "stream",
          "text": [
            "D1  0.76  D2  0.74  D3  0.76\n",
            "Ensemble  0.81\n"
          ],
          "name": "stdout"
        }
      ]
    },
    {
      "cell_type": "markdown",
      "metadata": {
        "id": "IkdJve_oH7gf",
        "colab_type": "text"
      },
      "source": [
        "## Ejercicio:\n",
        "\n",
        "Haga las correcciones pertinentes para implementar correctamente la técnica de empaquetado o *bagging* de acuerdo al material visto en esta lección."
      ]
    },
    {
      "cell_type": "markdown",
      "metadata": {
        "id": "RIGKZofM0b5L",
        "colab_type": "text"
      },
      "source": [
        "# Práctica para Exámen"
      ]
    },
    {
      "cell_type": "markdown",
      "metadata": {
        "id": "RQbnO-pl0frN",
        "colab_type": "text"
      },
      "source": [
        "1. Si se tienen 2 eventos $A$ y $B$ con probabilidades $p_1$ y $p_2$ respectivamente, ¿Cuál es la probabilidad máxima de ocurrencia de ambos eventos en términos de sus probabilidades individuales $p_1$ y $p_2$?   "
      ]
    },
    {
      "cell_type": "markdown",
      "metadata": {
        "id": "zymZecYq0g0q",
        "colab_type": "text"
      },
      "source": [
        "2. Explique cuál es la diferencia entre la probabilidad conjunta de 2 variables aleatorias $X$ y $Y$ y la probabilidad condicional de las mismas. Matemáticamente, ¿Cómo se encuentran relacionadas estas probabilidades?"
      ]
    },
    {
      "cell_type": "markdown",
      "metadata": {
        "id": "25_UsdYC0hXX",
        "colab_type": "text"
      },
      "source": [
        "3. El 40% de las ventas en una tienda de ropa corresponden a artículos con descuento. Si los clientes devuelven el 15% de los artículos que compran con descuento y el 6% de los artículos que compran sin descuento ¿Cuál es el porcentaje global de artículos devueltos? Además, ¿Cuál es la probabilidad de que un cliente haya comprado un artículo con descuento dado que no fue devuelto?"
      ]
    },
    {
      "cell_type": "markdown",
      "metadata": {
        "id": "IZlKyzpW0iLa",
        "colab_type": "text"
      },
      "source": [
        "4. ¿Cómo se calcula el rango intercuartil en los diagramas de cajas y que permite determinar?"
      ]
    },
    {
      "cell_type": "markdown",
      "metadata": {
        "id": "m7JeF8uU0kAs",
        "colab_type": "text"
      },
      "source": [
        "5. Mediante un muestreo aleatorio se han recabado los siguientes tiempos de realización de exámenes del curso de estadística:\n",
        "\n",
        "$90.5 \\quad 187.2 \\quad 54.7 \\quad 127.4 \\quad 182.1 \\quad 260.5 \\quad 140.3 \\quad 209.2 \\quad 277.9 \\quad 10.7$\n",
        "\n",
        "Obtenga la estimación de máxima verosimilitud del tiempo medio de realización de la prueba y su desviación estándar."
      ]
    },
    {
      "cell_type": "markdown",
      "metadata": {
        "id": "Sn43Y7pc_u3e",
        "colab_type": "text"
      },
      "source": [
        "6. ¿Cuál es la diferencia entre un estimador puntual y un intervalo de confianza?¿Qué significa el nivel de confianza y como se expresa matemáticamente?"
      ]
    },
    {
      "cell_type": "markdown",
      "metadata": {
        "id": "OTskiOl__ylP",
        "colab_type": "text"
      },
      "source": [
        "7. Suponga que la probabilidad de mal funcionamiento de un motor durante cualquier periodo de una hora es p = 0.02. Encuentre la probabilidad de que un motor determinado funcione bien \n",
        "al menos tres horas."
      ]
    },
    {
      "cell_type": "markdown",
      "metadata": {
        "id": "y9bmYP6i_x9V",
        "colab_type": "text"
      },
      "source": [
        "8. ¿Cuál es la diferencia entre la distribución t-student y la distribución Z? Según el contexto del curso ¿En qué casos conviene usar una o la otra?"
      ]
    },
    {
      "cell_type": "markdown",
      "metadata": {
        "id": "LqgcJm0pi0QK",
        "colab_type": "text"
      },
      "source": [
        "9. El vicepresidente de ventas de una gran compañía afirma que los vendedores están promediando no más de 15 contactos de venta por semana. Como prueba de su afirmación, aleatoriamente se seleccionan $n=16$ vendedores y se registra el número de contactos hechos por cada uno para una sola semana seleccionada al azar. La media y varianza de las 16 mediciones fueron 17 y 9, respectivamente. ¿La evidencia contradice lo dicho por el vicepresidente? Use una prueba con nivel de significancia $\\alpha=0.05$."
      ]
    },
    {
      "cell_type": "code",
      "metadata": {
        "id": "3TdOqgbZn7oV",
        "colab_type": "code",
        "outputId": "c714a41c-a97f-45cb-8b4b-1d58e5cbf9a9",
        "colab": {
          "base_uri": "https://localhost:8080/",
          "height": 50
        }
      },
      "source": [
        "from scipy.stats import norm, t\n",
        "import numpy as np\n"
      ],
      "execution_count": 0,
      "outputs": [
        {
          "output_type": "stream",
          "text": [
            "864.328234656178\n"
          ],
          "name": "stdout"
        },
        {
          "output_type": "execute_result",
          "data": {
            "text/plain": [
              "5.7735026918962635"
            ]
          },
          "metadata": {
            "tags": []
          },
          "execution_count": 23
        }
      ]
    },
    {
      "cell_type": "code",
      "metadata": {
        "id": "t2Dv97rTuSz1",
        "colab_type": "code",
        "colab": {}
      },
      "source": [
        ""
      ],
      "execution_count": 0,
      "outputs": []
    }
  ]
}