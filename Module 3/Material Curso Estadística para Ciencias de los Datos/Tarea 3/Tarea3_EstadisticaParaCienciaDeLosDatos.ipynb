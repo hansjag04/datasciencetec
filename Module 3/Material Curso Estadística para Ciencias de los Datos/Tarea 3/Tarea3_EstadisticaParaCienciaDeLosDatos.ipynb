{
  "nbformat": 4,
  "nbformat_minor": 0,
  "metadata": {
    "colab": {
      "name": "Tarea3_EstadisticaParaCienciaDeLosDatos.ipynb",
      "provenance": [],
      "collapsed_sections": []
    },
    "kernelspec": {
      "name": "python3",
      "display_name": "Python 3"
    }
  },
  "cells": [
    {
      "cell_type": "markdown",
      "metadata": {
        "id": "jdtaAwa8XzNA",
        "colab_type": "text"
      },
      "source": [
        "# Estadística para Ciencia de los Datos\n",
        "\n",
        "---\n",
        "\n",
        "\n",
        "\n",
        "# Tarea #3\n",
        "La presente asignación busca que los estudiantes apliquen intervalos de confianza como un medio para explorar los conjuntos de datos de la Tarea \\#2. En esa tarea se pidió analizar un grupo de columnas en busca de las distribuciones que modelaban más adecuadamente cada una.\n",
        "\n",
        "Se pide a los estudiantes que seleccionen 2 columnas de variables cuantitativas del conjunto de datos y exploren intervalos de confianza y el contexto alrededor de ellos. \n",
        "\n",
        "Para toda esta tarea vamos a suponer que el set de datos de diamantes es nuestra población de interés. Partiendo de este supuesto, para ambas columnas obtenga el promedio poblacional y la desviación estándar poblacional.\n",
        "\n",
        "Con estas medias poblacionales los estudiantes deberán, para ambas columnas:\n",
        "- Seleccionar una muestra aleatoria con un $n$ = 25.\n",
        "- Crear 1 intervalo de confianza para la media con un nivel de confianza de 90\\% e indique si incluye el promedio poblacional.(**10 puntos**)\n",
        "- Igual que el anterior, con un nivel de confianza de 95% e indique si incluye el promedio poblacional. (**5 puntos**)\n",
        "- Igual que el anterior, con una confianza de 99% e indique si incluye el promedio poblacional. (**5 puntos**)\n",
        "\n",
        "¿Qué concluye de los intervalos de confianza anteriores? ¿Aumentan, disminuyen, se mantienen igual?\n",
        "Si hay cambios, ¿por qué ocurre esto? (**10 puntos**)\n",
        "\n",
        "- Analizar al menos 3 valores de $n$, es decir use al menos 3 muestras aleatorias de diferentes tamaños (por ejemplo 5, 20, 50). Explique que impacto tiene $n$ en el intervalo de confianza, además indique si se incluye o no el promedio poblacional en cada caso. En este caso use un nivel de confianza de 95\\% (**20 puntos**)\n",
        "\n",
        "- Establecer al menos 2 valores de margen de error $\\rho$ para la media y determinar cuál sería el tamaño de $n$ necesario para poder tener un nivel de confianza de 95\\% (**20 puntos**)\n",
        "\n",
        "Recuerde que suponemos que el set de datos es nuestra población de interés.\n",
        "\n",
        "Por último, se pide a los estudiantes que para ambas columnas realicen lo siguiente:\n",
        "\n",
        "- Seleccionar 16 muestras aleatorias con número de observaciones $n=10$. Repita lo mismo con $n=25$. \n",
        "- Graficar la comparación del promedio de cada una de las muestras de 10 observaciones con la media poblacional.(pueden usar `scatter` de `matplotlib` con barras de error, como en el siguiente ejemplo). Repita lo mismo con $n=25$. (**15 puntos**)\n",
        "![](https://drive.google.com/uc?id=1q4Gs2Z3LSKk3HvtWJbe926-4Hma2eOLh)\n",
        "- Graficar un histograma que ilustre la distribución de las medias muestrales de $n=10$ observaciones. Repita lo mismo con $n=25$. ¿Qué diferencia encuentra entre ambos histogramas?(**15 puntos**)\n",
        "\n",
        "Nótese que los apartados anteriores deben desarrollarse 2 veces. Una vez por cada columna.\n",
        "\n",
        "Como ha sido costumbre, se espera que los estudiantes entreguen un notebook de colab con tanto nivel de detalle como sea posible. La calificación de cada apartado depende que los estudiantes hayan logrado demostrar con claridad y detalle lo planteado en cada punto.\n",
        "\n",
        "Los estudiantes deberán realizar la entrega a través de TEC Digital a más tardar el día 14 de junio a las 11:55PM."
      ]
    }
  ]
}