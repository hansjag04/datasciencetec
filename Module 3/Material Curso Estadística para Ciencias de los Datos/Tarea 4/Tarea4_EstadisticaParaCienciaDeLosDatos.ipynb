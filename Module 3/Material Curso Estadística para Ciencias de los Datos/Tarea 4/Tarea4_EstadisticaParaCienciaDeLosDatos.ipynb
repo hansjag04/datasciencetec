{
  "nbformat": 4,
  "nbformat_minor": 0,
  "metadata": {
    "colab": {
      "name": "Tarea4_EstadisticaParaCienciaDeLosDatos.ipynb",
      "provenance": [],
      "collapsed_sections": []
    },
    "kernelspec": {
      "name": "python3",
      "display_name": "Python 3"
    }
  },
  "cells": [
    {
      "cell_type": "markdown",
      "metadata": {
        "id": "jdtaAwa8XzNA",
        "colab_type": "text"
      },
      "source": [
        "# Estadística para Ciencia de los Datos\n",
        "# Tarea #4\n",
        "\n",
        "## Parte 1\n",
        "\n",
        "Cuatro plantas químicas, que producen los mismos productos y son propiedad de la misma compañía, \n",
        "descargan aguas residuales en arroyos en la cercanía donde se encuentran ubicadas. Para vigilar la magnitud de la contaminación creada por las aguas residuales y para determinar si esto difiere de una planta a otra, la compañía recolectó aleatoriamente  cinco muestras (observaciones) de desechos líquidos de cada planta. Cada observación tomada indica la cantidad de libras por galón de desechos. Los datos se presentan en la siguiente tabla:\n",
        "\n",
        "|Planta | Ob. 1 | Ob. 2   | Ob. 3   | Ob. 4   |  Ob. 5 |\n",
        "|--- | --- |    |    |    |  |\n",
        "|**A**|1.65|1.72|1.50|1.37|1.60|\n",
        "|**B**|1.70|1.85|1.46|1.46|1.80|\n",
        "|**C**|1.40|1.75|1.38|1.38|1.55|\n",
        "|**D**|2.10|1.95|1.65|1.65|1.88|\n",
        "\n",
        "¿La información aporta suficiente evidencia para indicar una diferencia en el peso medio de las aguas residuales por galón descargadas de las cuatro plantas? Pruebe usando $\\alpha =0.05$ (70 puntos)\n",
        "\n",
        "\n",
        "## Parte 2\n",
        "\n",
        "Un problema recurrente en ciencia de los datos es qué hacer con datos faltantes (*missing values*). Al proceso a través del cuál solucionamos este problema se le llama *imputación de datos* o tratamiento de valores inválidos.\n",
        "\n",
        "- Investigue al menos tres estrategias de imputación de datos. Describa en que consiste cada una y en que casos conviene usar cada una. (30 puntos)\n",
        "\n",
        "## Detalles sobre la entrega\n",
        "\n",
        "Como ha sido costumbre, se espera que los estudiantes entreguen un notebook de colab con tanto nivel de detalle como sea posible. La calificación de cada apartado depende que los estudiantes hayan logrado demostrar con claridad y detalle lo planteado en cada punto. Para la parte 1 debe implementar cada uno de los pasos del ANOVA vistos en clase o bien desarrollarlo matemáticamente y poner los resultados de cada cálculo. No se aceptará como solución llamados a funciones de bibliotecas que realicen el ANOVA. \n",
        "\n",
        "Los estudiantes deberán realizar la entrega a través de TEC Digital a más tardar el día 27 de junio a las 11:55 PM.\n"
      ]
    }
  ]
}