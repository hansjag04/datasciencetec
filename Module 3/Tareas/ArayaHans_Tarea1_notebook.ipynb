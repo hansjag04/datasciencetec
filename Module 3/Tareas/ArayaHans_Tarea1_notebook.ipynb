{
  "nbformat": 4,
  "nbformat_minor": 0,
  "metadata": {
    "colab": {
      "name": "Tarea1_EstadisticaParaCienciaDeLosDatos.ipynb",
      "provenance": [],
      "collapsed_sections": []
    },
    "kernelspec": {
      "display_name": "Python 3",
      "language": "python",
      "name": "python3"
    },
    "language_info": {
      "codemirror_mode": {
        "name": "ipython",
        "version": 3
      },
      "file_extension": ".py",
      "mimetype": "text/x-python",
      "name": "python",
      "nbconvert_exporter": "python",
      "pygments_lexer": "ipython3",
      "version": "3.7.3"
    }
  },
  "cells": [
    {
      "cell_type": "markdown",
      "metadata": {
        "colab_type": "text",
        "id": "jdtaAwa8XzNA"
      },
      "source": [
        "# Estadística para Ciencia de los Datos\n",
        "# Tarea #1\n"
      ]
    },
    {
      "cell_type": "markdown",
      "metadata": {
        "colab_type": "text",
        "id": "b7yZKbBswGSC"
      },
      "source": [
        "Realice los siguientes ejercicios y envíe sus respuestas, en un notebook de google colab, a través de TEC Digital a más tardar el jueves 2 de julio a las 5:00 PM. No se aceptarán entregas tardías.\n",
        "\n",
        "Desarrolle todos los ejercicios con el mayor nivel de detalle posible. Se espera que el desarrollo algebraico sea formal. No será válido únicamente dar respuestas en prosa a las preguntas.\n",
        "\n",
        "Para la parte 1 de la tarea es válido entregar las respuestas  como un archivo PDF que sea un escaneo de la solución en papel de los ejercicios. Los estudiantes son responsables por asegurar que el archivo enviado sea legible.\n",
        "\n",
        "Para la parte 2 de la tarea se espera que el código pueda ejecutarse con visualizaciones apropiadas, sino no se asignará puntaje."
      ]
    },
    {
      "cell_type": "markdown",
      "metadata": {
        "colab_type": "text",
        "id": "5e6Nc6WZTTmc"
      },
      "source": [
        "## Parte 1\n",
        "\n",
        "1.   Una agencia de bienes raíces tiene una base de datos de propiedades vendidas en la cuál rastrearon la cantidad de días que duró en concretarse la venta, además de su precio de venta (ver tabla). Basado en los datos responda los siguientes apartados. Responda todos los puntos utilizando ecuaciones únicamente.\n",
        "\n",
        " * Si $A$ es el evento de vender una casa en más de 90 días, estime la probabilidad de $A$ (5 puntos)\n",
        " * Si $B$ es el evento de vender una casa en menos de 50,000, estime la probablidad de $B$ (5 puntos)\n",
        " * ¿Cuál es la probabilidad de que $A$ y $B$ ocurran juntos? (5 puntos)\n",
        " * Si una casa se define que tiene un precio de menos de \\$50,000, ¿cuál es la probabilidad que tarde 90 o menos días en venderse? (5 puntos)\n",
        " * ¿Se puede considerar que los eventos $A$ y $B$ son independientes? (Demuéstrelo matemáticamente) (10 puntos)\n",
        "  \n",
        "|| Menos de 30 días | De 31 a 90 | Más de 90 | Total\n",
        "|--- | --- | --- | --- |---\n",
        "|**Menos de \\$50,000**|50|40|10|100\n",
        "|**50,000 a 99,999**|20|150|80|250\n",
        "|**100,000 a 149,999**|20|280|100|400\n",
        "|**Más de 150,000**|10|10|30|50\n",
        "|**Total**|100|480|220|800\n",
        "\n",
        "\n",
        "\n",
        "2.   Suponga que se desea analizar la relación entre tres variables aleatorias $X_{1},X_{2}$ y $X_{3}$, para las cuales se han recabado los siguientes arreglos de $N=3$ observaciones:\n",
        " * Calcule la varianza de cada variable aleatoria (muestre todos los pasos) (10 puntos)\n",
        " * Calcule la matriz de correlación de Pearson (muestre todos los pasos) (10 puntos)\n",
        "\n",
        "\\begin{equation}\n",
        "\\begin{array}{c}\n",
        "h_{1}=\\begin{bmatrix}3 & 15 & 21\\end{bmatrix}\\\\\n",
        "h_{2}=\\begin{bmatrix}1 & 5 & 6\\end{bmatrix}\\\\\n",
        "h_{3}=\\begin{bmatrix}13 & 7 & 3\\end{bmatrix}\n",
        "\\end{array}\n",
        "\\end{equation}"
      ]
    },
    {
      "cell_type": "markdown",
      "metadata": {
        "id": "mnoBDmRMlbVG",
        "colab_type": "text"
      },
      "source": [
        "### R/\n",
        "\n",
        "La parte 1 fue realizada en papel y se adjunta en el **.zip** de la tarea."
      ]
    },
    {
      "cell_type": "markdown",
      "metadata": {
        "colab_type": "text",
        "id": "chgbdVm7TbL-"
      },
      "source": [
        "## Parte 2\n",
        "\n",
        "1. Muestreo de estaturas. Los estudiantes deberán programar dos funciones para crear muestras de $N$ personas (observaciones) con una sola variable aleatoria: estatura. Para efectos prácticos, ambas funciones pueden retornar una simple lista con valores numéricos que representan la estatura en centímetros de diferentes personas. Para ambas funciones deberán mostrarse ejemplos de creación de muestras con al menos 100 observaciones y mostrarlas en un histograma. La cantidad de cubetas deberá limitarse a un máximo de 9. Las funciones a programar serán las siguientes:\n",
        " * **Muestreo Uniforme**. Además de recibir la cantidad de observaciones a generar $N$, recibirá la estatura mínima y máxima  por parámetro. Por ejemplo, si se pide una distribución uniforme entre 150 y 168, las estaturas entre ese rango deberán ser igual de probables de muestrear. (5 puntos)\n",
        "  * **Muestreo Normal**. Además de recibir la cantidad de observaciones a generar $N$, recibirá la media y desviación estándar por parámetro. De esta forma, la función generará $N$ observaciones provenientes de una distribución Gaussiana con la media y desviación estándar recibidas. (5 puntos)\n",
        "  \n",
        "  \n",
        "2. **Evaluación de la función de verosimilitud normal**. Deberán proveer una función que reciba una de las **muestras** del punto 1 y evalúe la probabilidad que esa muestra provenga de una distribución normal con parámetros $\\mu$ y $\\sigma$ (que deberán ser enviados a la función). Deberán mostrar ejemplos obtenidos bajo ambos esquemas de muestreo. Por ejemplo, si se crea una muestra normal centrada en $\\mu_1=177$ con $\\sigma_1=1$ y evaluamos la verosimilitud para $\\mu=176,\\sigma=3$ podría darnos una probabilidad alta. En contraposición, al crear una muestra uniforme entre $170$ y $180$ y evaluarla para esos mismos parámetros de verosimilitud, se esperaría que sea menos probable. Todo lo anterior debe reflejarse con ejemplos que muestren el correcto funcionamiento (10 puntos)\n",
        "3. ¿Qué problema ocurre con el cálculo de la función de verosimilitud cuando aumentamos la cantidad de observaciones en varios órdenes de magnitud? y ¿Cual sería una forma de solucionar este problema? Programe una función con la posible solución y anote como comentarios las respuestas a las dos preguntas anteriores. De igual forma muestre un ejemplo de como invocar esta función (10 puntos)\n",
        "4. Implemente una función para determinar los valores óptimos para maximizar la función de verosimilitud normal, según teoría vista en clase. Suponga que la cantidad de observaciones (N) siempre es alta. Igualmente se espera que se provean ejemplos en el código para mostrar el correcto funcionamiento (10 puntos)\n",
        "5. Genere 10000 muestras de 30 observaciones cada una  provenientes de una distribución normal con $\\mu=170$ y $\\sigma=1$. Calcule el valor óptimo de la varianza para maximizar la función de verosimilitud normal de cada muestra (estimador de la varianza sesgado) y luego obtenga el valor esperado de la varianza (promedio sobre las 10000 muestras). Compare este valor esperado con el valor  de varianza usado para generar las muestras ($\\sigma^{2}=1$)  . Ejecute varias veces su código y responda ¿El valor esperado de la varianza aproxima de manera correcta la varianza original  de la distribución o es necesario hacer alguna corrección en este caso para el cálculo del valor óptimo de la varianza? Justifique su respuesta en ambos casos y explique cual sería la corrección en caso afirmativo (10 puntos)"
      ]
    },
    {
      "cell_type": "code",
      "metadata": {
        "id": "Uce-mn55xTXw",
        "colab_type": "code",
        "colab": {
          "base_uri": "https://localhost:8080/",
          "height": 547
        },
        "outputId": "61548eba-00af-4bf2-e4e7-1f8d43ab0fa5"
      },
      "source": [
        "# EJERCICIO 2.1\n",
        "import numpy as np\n",
        "import matplotlib.pyplot as plt\n",
        "\n",
        "'''\n",
        "Returns a sample of random heights with uniform distribution\n",
        "\n",
        "Parameters:\n",
        "  n: number of samples (default: 100)\n",
        "  min_height: sample's minimum height in cm\n",
        "  max_height: sample's maximum height in cm\n",
        "\n",
        "Returns:\n",
        "  numpy vector with all samples in centimeters\n",
        "'''\n",
        "def get_height_samples_uniform(min_height=30, max_height=220, n=100):\n",
        "  samples = np.random.uniform(min_height, max_height + 1, n)\n",
        "\n",
        "  return samples\n",
        "\n",
        "'''\n",
        "Returns a sample of random heights with normal distribution\n",
        "\n",
        "Parameters:\n",
        "  n: number of samples (default: 100)\n",
        "  mean: Mean of the sample's distribution\n",
        "  std_dev: standard deviation of the sample's distribution\n",
        "\n",
        "Returns:\n",
        "  numpy vector with all samples in centimeters\n",
        "'''\n",
        "def get_height_samples_normal(mean=0, std_dev=0.1, n=100):\n",
        "  samples = np.random.normal(mean, std_dev, n)\n",
        "\n",
        "  return samples\n",
        "\n",
        "'''\n",
        "Plots a histogram from the samples vector.\n",
        "\n",
        "Parameters:\n",
        "  samples: Vector with all samples to plot\n",
        "  bins: Number of bins to generate the histogram\n",
        "\n",
        "Returns:\n",
        "  None\n",
        "'''\n",
        "def plot_histogram(samples, bins=9):\n",
        "  if bins > 9:\n",
        "    bins = 9\n",
        "\n",
        "  if bins <= 0:\n",
        "    bins = 1\n",
        "\n",
        "  plt.hist(samples, bins=bins)\n",
        "  plt.show()\n",
        "\n",
        "bins = 9\n",
        "\n",
        "print(\" 100 muestras aleatorias con distribución UNIFORME, con alturas entre 140cm a 200cm\")\n",
        "uniform_samples = get_height_samples_uniform(min_height=140, max_height=200, n=100)\n",
        "plot_histogram(uniform_samples, bins)\n",
        "\n",
        "print(\" 100 muestras aleatorias con distribución NORMAL, con media=160cm y desviación estándar=8cm\")\n",
        "normal_samples = get_height_samples_normal(mean=160, std_dev=8, n=100)\n",
        "plot_histogram(normal_samples, bins)\n"
      ],
      "execution_count": 96,
      "outputs": [
        {
          "output_type": "stream",
          "text": [
            " 100 muestras aleatorias con distribución UNIFORME, con alturas entre 140cm a 200cm\n"
          ],
          "name": "stdout"
        },
        {
          "output_type": "display_data",
          "data": {
            "image/png": "[encoded data removed]",
            "text/plain": [
              "<Figure size 432x288 with 1 Axes>"
            ]
          },
          "metadata": {
            "tags": [],
            "needs_background": "light"
          }
        },
        {
          "output_type": "stream",
          "text": [
            " 100 muestras aleatorias con distribución NORMAL, con media=160cm y desviación estándar=8cm\n"
          ],
          "name": "stdout"
        },
        {
          "output_type": "display_data",
          "data": {
            "image/png": "[encoded data removed]",
            "text/plain": [
              "<Figure size 432x288 with 1 Axes>"
            ]
          },
          "metadata": {
            "tags": [],
            "needs_background": "light"
          }
        }
      ]
    },
    {
      "cell_type": "markdown",
      "metadata": {
        "id": "_wLypmWaJAVU",
        "colab_type": "text"
      },
      "source": [
        "### Ejercicio 2.2\n",
        "\n",
        "Evaluación de la función de verosimilitud normal. Deberán proveer una función que reciba una de las muestras del punto 1 y evalúe la probabilidad que esa muestra provenga de una distribución normal con parámetros  𝜇  y  𝜎  (que deberán ser enviados a la función). Deberán mostrar ejemplos obtenidos bajo ambos esquemas de muestreo. Por ejemplo, si se crea una muestra normal centrada en  𝜇1=177  con  𝜎1=1  y evaluamos la verosimilitud para  𝜇=176,𝜎=3  podría darnos una probabilidad alta. En contraposición, al crear una muestra uniforme entre  170  y  180  y evaluarla para esos mismos parámetros de verosimilitud, se esperaría que sea menos probable. Todo lo anterior debe reflejarse con ejemplos que muestren el correcto funcionamiento (10 puntos)"
      ]
    },
    {
      "cell_type": "code",
      "metadata": {
        "id": "n5SdbED_0xm9",
        "colab_type": "code",
        "colab": {
          "base_uri": "https://localhost:8080/",
          "height": 527
        },
        "outputId": "d6bc393a-77a3-4f6c-be04-282460865038"
      },
      "source": [
        "# EJERCICIO 2.2\n",
        "\n",
        "import math\n",
        "\n",
        "'''\n",
        "Calculates the value using a gaussian density function\n",
        "\n",
        "Parameters:\n",
        "  value: value to calculate\n",
        "  mean: mean of the gaussian distribution\n",
        "  std_dev: standard deviation of the gaussian distribution\n",
        "\n",
        "Returns:\n",
        "  number with the calculation on the gaussian density function\n",
        "'''\n",
        "def getGaussianValue(value, mean, std_dev):\n",
        "  variance = std_dev ** 2\n",
        "  norm = 1/(math.sqrt(2 * math.pi * variance))\n",
        "  gaussian = norm * math.exp((-1/(2 * variance)) * (value - mean)**2 )\n",
        "\n",
        "  return gaussian\n",
        "\n",
        "'''\n",
        "Checks the probability of likelihood from a sample with a gaussian density function\n",
        "This function can suffer the underflow issue with big samples\n",
        "\n",
        "Parameters:\n",
        "  samples: vector with all samples to compare\n",
        "  mean: mean of the gaussian distribution\n",
        "  std_dev: standard deviation of the gaussian distribution\n",
        "\n",
        "Returns:\n",
        "  number with the probability of likelihood\n",
        "'''\n",
        "def checkLikelihood(samples, mean, std_dev):\n",
        "  likelihood = 1\n",
        "  for x in samples:\n",
        "    gaussian_x = getGaussianValue(x, mean, std_dev)\n",
        "    likelihood *= gaussian_x\n",
        "\n",
        "  return likelihood\n",
        "\n",
        "\n",
        "likelihood_mean = 170\n",
        "likelihood_std_dev = 5\n",
        "\n",
        "print('Ejercicio 2.2')\n",
        "print('Probabilidad de verosimilitud en diferentes muestras evaluado con media=170 y desviación estándar=5')\n",
        "\n",
        "print('\\n\\n------\\n\\n')\n",
        "\n",
        "print('Evaluando muestras de una distribución normal: \\n\\n')\n",
        "\n",
        "print('1. Creados con media=160, desviación estándar=8 (la probabilidad debería ser baja)')\n",
        "normal_samples = get_height_samples_normal(mean=160, std_dev=8, n=100)\n",
        "print(checkLikelihood(normal_samples, likelihood_mean, likelihood_std_dev))\n",
        "\n",
        "print('\\n\\n2. Creados con media==171, desviación estándar=4 (la probabilidad debería ser más alta)')\n",
        "normal_samples = get_height_samples_normal(mean=171, std_dev=4, n=100)\n",
        "print(checkLikelihood(normal_samples, likelihood_mean, likelihood_std_dev))\n",
        "\n",
        "print('\\n\\n------\\n\\n')\n",
        "\n",
        "print('Evaluando muestras de una distribución uniforme: \\n\\n')\n",
        "\n",
        "print('1. Creados con altura mínima=140, altura máxima=185 (la probabilidad debería ser mucho menor que comparando muestras de distribución normal)')\n",
        "uniform_samples = get_height_samples_uniform(min_height=140, max_height=185, n=100)\n",
        "print(checkLikelihood(uniform_samples, likelihood_mean, likelihood_std_dev))\n",
        "\n",
        "print('\\n\\n2. Creados con altura mínima=160, altura máxima=175 (la probabilidad debería ser mejor que la anterior)')\n",
        "uniform_samples = get_height_samples_uniform(min_height=160, max_height=175, n=100)\n",
        "print(checkLikelihood(uniform_samples, likelihood_mean, likelihood_std_dev))\n"
      ],
      "execution_count": 30,
      "outputs": [
        {
          "output_type": "stream",
          "text": [
            "Ejercicio 2.2\n",
            "Probabilidad de verosimilitud en diferentes muestras evaluado con media=170 y desviación estándar=5\n",
            "\n",
            "\n",
            "------\n",
            "\n",
            "\n",
            "Evaluando muestras de una distribución normal: \n",
            "\n",
            "\n",
            "1. Creados con media=160, desviación estándar=8 (la probabilidad debería ser baja)\n",
            "7.000979927182151e-280\n",
            "\n",
            "\n",
            "2. Creados con media==171, desviación estándar=4 (la probabilidad debería ser más alta)\n",
            "7.721624171955924e-124\n",
            "\n",
            "\n",
            "------\n",
            "\n",
            "\n",
            "Evaluando muestras de una distribución uniforme: \n",
            "\n",
            "\n",
            "1. Creados con altura mínima=140, altura máxima=185 (la probabilidad debería ser mucho menor que comparando muestras de distribución normal)\n",
            "2e-323\n",
            "\n",
            "\n",
            "2. Creados con altura mínima=160, altura máxima=175 (la probabilidad debería ser mejor que la anterior)\n",
            "4.045574729114572e-133\n"
          ],
          "name": "stdout"
        }
      ]
    },
    {
      "cell_type": "markdown",
      "metadata": {
        "id": "rfmN2kJbQKih",
        "colab_type": "text"
      },
      "source": [
        "### Ejercicio 2.3\n",
        "\n",
        "¿Qué problema ocurre con el cálculo de la función de verosimilitud cuando aumentamos la cantidad de observaciones en varios órdenes de magnitud? y ¿Cual sería una forma de solucionar este problema? Programe una función con la posible solución y anote como comentarios las respuestas a las dos preguntas anteriores. De igual forma muestre un ejemplo de como invocar esta función (10 puntos)\n",
        "\n"
      ]
    },
    {
      "cell_type": "code",
      "metadata": {
        "id": "LVRPaHLDQRsp",
        "colab_type": "code",
        "colab": {
          "base_uri": "https://localhost:8080/",
          "height": 255
        },
        "outputId": "b2bf2c65-5a00-4643-e0ee-d6bfa9c8202d"
      },
      "source": [
        "likelihood_mean = 170\n",
        "likelihood_std_dev = 5\n",
        "sample_mean = 170\n",
        "sample_std_dev = 5\n",
        "\n",
        "print('Evaluando verosimilutud con media=160, desviación=5 en muestras aleatorias normales creadas con media=165, desviación=4 \\n')\n",
        "normal_samples_10 = get_height_samples_normal(mean=sample_mean, std_dev=sample_std_dev, n=10)\n",
        "print(\"La probabilidad con 10 muestras es de: \", checkLikelihood(normal_samples_10, likelihood_mean, likelihood_std_dev))\n",
        "\n",
        "normal_samples_100 = get_height_samples_normal(mean=sample_mean, std_dev=sample_std_dev, n=100)\n",
        "print(\"La probabilidad con 100 muestras es de: \", checkLikelihood(normal_samples_100, likelihood_mean, likelihood_std_dev))\n",
        "\n",
        "normal_samples_1000 = get_height_samples_normal(mean=sample_mean, std_dev=sample_std_dev, n=1000)\n",
        "print(\"La probabilidad con 1000 muestras es de: \", checkLikelihood(normal_samples_1000, likelihood_mean, likelihood_std_dev))\n",
        "\n",
        "normal_samples_10000 = get_height_samples_normal(mean=sample_mean, std_dev=sample_std_dev, n=10000)\n",
        "print(\"La probabilidad con 10000 muestras es de: \", checkLikelihood(normal_samples_10000, likelihood_mean, likelihood_std_dev))\n",
        "\n",
        "'''\n",
        "Checks the probability of likelihood from a sample with a gaussian density function\n",
        "This function does not suffer the underflow issue with big samples because\n",
        "it's using the natural logarithm to do the calculations\n",
        "\n",
        "Parameters:\n",
        "  samples: vector with all samples to compare\n",
        "  mean: mean of the gaussian distribution\n",
        "  std_dev: standard deviation of the gaussian distribution\n",
        "\n",
        "Returns:\n",
        "  number with the probability of likelihood\n",
        "'''\n",
        "def checkLikelihoodWithLog(samples, mean, std_dev):\n",
        "  likelihood = 0\n",
        "  for x in samples:\n",
        "    gaussian_x = getGaussianValue(x, mean, std_dev)\n",
        "    likelihood += math.log(gaussian_x)\n",
        "\n",
        "  return likelihood\n",
        "\n",
        "print('\\n\\n Ahora evaluando la verosimilutud utilizando logaritmo natural (mismos parámetros): \\n')\n",
        "print(\"La probabilidad con las mismas 10 muestras es de: \", checkLikelihoodWithLog(normal_samples_10, likelihood_mean, likelihood_std_dev))\n",
        "print(\"La probabilidad con las mismas 100 muestras es de: \", checkLikelihoodWithLog(normal_samples_100, likelihood_mean, likelihood_std_dev))\n",
        "print(\"La probabilidad con las mismas 1000 muestras es de: \", checkLikelihoodWithLog(normal_samples_1000, likelihood_mean, likelihood_std_dev))\n",
        "print(\"La probabilidad con las mismas 10000 muestras es de: \", checkLikelihoodWithLog(normal_samples_10000, likelihood_mean, likelihood_std_dev))\n"
      ],
      "execution_count": 36,
      "outputs": [
        {
          "output_type": "stream",
          "text": [
            "Evaluando verosimilutud con media=160, desviación=5 en muestras aleatorias normales creadas con media=165, desviación=4 \n",
            "\n",
            "La probabilidad con 10 muestras es de:  9.011479593528677e-125\n",
            "La probabilidad con 100 muestras es de:  9.837894154327515e-136\n",
            "La probabilidad con 1000 muestras es de:  0.0\n",
            "La probabilidad con 10000 muestras es de:  0.0\n",
            "\n",
            "\n",
            " Ahora evaluando la verosimilutud utilizando logaritmo natural (mismos parámetros): \n",
            "\n",
            "La probabilidad con las mismas 10 muestras es de:  -285.6246373492998\n",
            "La probabilidad con las mismas 100 muestras es de:  -310.8653309677358\n",
            "La probabilidad con las mismas 1000 muestras es de:  -3039.045486753261\n",
            "La probabilidad con las mismas 10000 muestras es de:  -30194.53807663531\n"
          ],
          "name": "stdout"
        }
      ]
    },
    {
      "cell_type": "markdown",
      "metadata": {
        "id": "-1tn1Qv1SK-I",
        "colab_type": "text"
      },
      "source": [
        "## **R/**\n",
        "\n",
        "Conforme aumenta la cantidad de observaciones se presenta el problema de *underflow*, que significa que computacionalmente la fracción decimal es tan pequeña que no se puede representar más y termina siendo 0.\n",
        "\n",
        "La solución es evaluar la función de verosimilutud utilizando logaritmo natural para maximizar la función y facilitar los cálculos.\n",
        "\n",
        "Como se presenta en los resultados anteriores, ya se puede calcular en muestras de 1.000 y 10.000 observaciones lo cual era imposible utilizando el método normal de verosimilitud sin usar logaritmo."
      ]
    },
    {
      "cell_type": "markdown",
      "metadata": {
        "id": "INsk84bHXCNC",
        "colab_type": "text"
      },
      "source": [
        "### Ejercicio 2.4\n",
        "\n",
        "Implemente una función para determinar los valores óptimos para maximizar la función de verosimilitud normal, según teoría vista en clase. Suponga que la cantidad de observaciones (N) siempre es alta. Igualmente se espera que se provean ejemplos en el código para mostrar el correcto funcionamiento (10 puntos)"
      ]
    },
    {
      "cell_type": "code",
      "metadata": {
        "id": "G2eT12UQXHMT",
        "colab_type": "code",
        "colab": {
          "base_uri": "https://localhost:8080/",
          "height": 136
        },
        "outputId": "ddac9664-3da0-4eb8-d2c1-bb28d20d84d0"
      },
      "source": [
        "'''\n",
        "Calculates the optimum mean and standard deviation from a sample\n",
        "\n",
        "Parameters:\n",
        "  samples: vector with all samples to calculate the values\n",
        "  bias: boolean to indicate if the variance estimator should include a bias.\n",
        "        The recommendation is to include the bias only with big samples\n",
        "\n",
        "Returns:\n",
        "  tuple of (optimum mean, optimum standard deviation)\n",
        "'''\n",
        "def get_optimum_values(samples, bias=True):\n",
        "  M = len(samples)\n",
        "\n",
        "  mean_sum = 0\n",
        "  for x in samples:\n",
        "    mean_sum += x\n",
        "  mean = mean_sum / M\n",
        "\n",
        "  variance_sum = 0\n",
        "  for x in samples:\n",
        "    variance_sum += ((x - mean) ** 2)\n",
        "  variance = variance_sum / (M if bias else (M - 1))\n",
        "\n",
        "  return mean, math.sqrt(variance)\n",
        "\n",
        "size_samples = 100\n",
        "mean = 170\n",
        "std_dev = 5\n",
        "\n",
        "normal_samples = get_height_samples_normal(mean=mean, std_dev=std_dev, n=size_samples)\n",
        "\n",
        "optimum_mean, optimum_std_dev = get_optimum_values(normal_samples, bias=True)\n",
        "_, nobias_optimum_std_dev = get_optimum_values(normal_samples, bias=False)\n",
        "\n",
        "print('Con una muestra de 10.000 observaciones, creadas con media=170, desviación=5, los valores optimos estimados son:')\n",
        "print('\\nMedia óptima: ', optimum_mean)\n",
        "print('\\nDesviación estándar óptima: ', optimum_std_dev)\n",
        "print('\\nDesviación estándar óptima (usando estimador de varianza sin sesgo): ', nobias_optimum_std_dev)"
      ],
      "execution_count": 85,
      "outputs": [
        {
          "output_type": "stream",
          "text": [
            "Con una muestra de 10.000 observaciones, creadas con media=170, desviación=5, los valores optimos estimados son:\n",
            "\n",
            "Media óptima:  169.63108396156923\n",
            "\n",
            "Desviación estándar óptima:  4.979644761691183\n",
            "\n",
            "Desviación estándar óptima (usando estimador de varianza sin sesgo):  5.0047312920570866\n"
          ],
          "name": "stdout"
        }
      ]
    },
    {
      "cell_type": "markdown",
      "metadata": {
        "id": "P-9bWzESXHW2",
        "colab_type": "text"
      },
      "source": [
        "### Ejercicio 2.5\n",
        "\n",
        "Genere 10000 muestras de 30 observaciones cada una  provenientes de una distribución normal con $\\mu=170$ y $\\sigma=1$. Calcule el valor óptimo de la varianza para maximizar la función de verosimilitud normal de cada muestra (estimador de la varianza sesgado) y luego obtenga el valor esperado de la varianza (promedio sobre las 10000 muestras). Compare este valor esperado con el valor  de varianza usado para generar las muestras ($\\sigma^{2}=1$)  . Ejecute varias veces su código y responda ¿El valor esperado de la varianza aproxima de manera correcta la varianza original  de la distribución o es necesario hacer alguna corrección en este caso para el cálculo del valor óptimo de la varianza? Justifique su respuesta en ambos casos y explique cual sería la corrección en caso afirmativo (10 puntos)"
      ]
    },
    {
      "cell_type": "code",
      "metadata": {
        "id": "tFOlydQ4b5rY",
        "colab_type": "code",
        "colab": {
          "base_uri": "https://localhost:8080/",
          "height": 459
        },
        "outputId": "a90776f8-8d3a-42e2-ced9-d1ce26832950"
      },
      "source": [
        "'''\n",
        "Performs a test execution to compare the average variance obtained\n",
        "from samples created with specified mean and standard deviation\n",
        "\n",
        "Parameters:\n",
        "  iterations: number of iterations to test\n",
        "  n: Size of the samples\n",
        "  mean: mean of the samples with normal distribution\n",
        "  std_dev: mean of the samples with normal distribution\n",
        "  bias: boolean to indicate if the variance estimator should include a bias.\n",
        "        The recommendation is to include the bias only with big samples\n",
        "\n",
        "Returns:\n",
        "  number with the average variance from all iterations\n",
        "'''\n",
        "def eval_mean_variance(iterations, n, mean, std_dev, bias=True):\n",
        "  variances = []\n",
        "  for i in range(iterations):\n",
        "    samples = get_height_samples_normal(mean=mean, std_dev=std_dev, n=n)\n",
        "    optimum_mean, optimum_std_dev = get_optimum_values(samples, bias=bias)\n",
        "    variances.append(optimum_std_dev ** 2)\n",
        "  \n",
        "  return np.mean(variances)\n",
        "\n",
        "print('Ejecución #1 de 10.000 iteraciones con 30 observaciones, media=170, desviación=1 (usando estimador de varianza sesgado)')\n",
        "print('Varianza promedio: ', eval_mean_variance(iterations=10000, n=30, mean=170, std_dev=1, bias=True))\n",
        "\n",
        "print('\\nEjecución #2 de 10.000 iteraciones con 30 observaciones, media=170, desviación=1 (usando estimador de varianza sesgado)')\n",
        "print('Varianza promedio: ', eval_mean_variance(iterations=10000, n=30, mean=170, std_dev=1, bias=True))\n",
        "\n",
        "print('\\nEjecución #3 de 10.000 iteraciones con 30 observaciones, media=170, desviación=1 (usando estimador de varianza sesgado)')\n",
        "print('Varianza promedio: ', eval_mean_variance(iterations=1000, n=30, mean=170, std_dev=1, bias=True))\n",
        "\n",
        "print('\\nEjecución #4 de 10.000 iteraciones con 1000 observaciones, media=170, desviación=1 (usando estimador de varianza sesgado)')\n",
        "print('Varianza promedio: ', eval_mean_variance(iterations=10000, n=1000, mean=170, std_dev=1, bias=True))\n",
        "\n",
        "print('\\n\\nAhora usando estimador de varianza sin sesgo')\n",
        "\n",
        "print('\\nEjecución #5 de 10.000 iteraciones con 30 observaciones, media=170, desviación=1 (usando estimador de varianza SIN sesgo)')\n",
        "print('Varianza promedio: ', eval_mean_variance(iterations=10000, n=30, mean=170, std_dev=1, bias=False))\n",
        "\n",
        "print('\\nEjecución #6 de 10.000 iteraciones con 30 observaciones, media=170, desviación=1 (usando estimador de varianza SIN sesgo)')\n",
        "print('Varianza promedio: ', eval_mean_variance(iterations=10000, n=30, mean=170, std_dev=1, bias=False))\n",
        "\n",
        "print('\\nEjecución #7 de 10.000 iteraciones con 30 observaciones, media=170, desviación=1 (usando estimador de varianza SIN sesgo)')\n",
        "print('Varianza promedio: ', eval_mean_variance(iterations=10000, n=30, mean=170, std_dev=1, bias=False))\n",
        "\n",
        "print('\\nEjecución #8 de 10.000 iteraciones con 1000 observaciones, media=170, desviación=1 (usando estimador de varianza SIN sesgo)')\n",
        "print('Varianza promedio: ', eval_mean_variance(iterations=10000, n=1000, mean=170, std_dev=1, bias=False))"
      ],
      "execution_count": 89,
      "outputs": [
        {
          "output_type": "stream",
          "text": [
            "Ejecución #1 de 10.000 iteraciones con 30 observaciones, media=170, desviación=1 (usando estimador de varianza sesgado)\n",
            "Varianza promedio:  0.9675525648412849\n",
            "\n",
            "Ejecución #2 de 10.000 iteraciones con 30 observaciones, media=170, desviación=1 (usando estimador de varianza sesgado)\n",
            "Varianza promedio:  0.9655483197601874\n",
            "\n",
            "Ejecución #3 de 10.000 iteraciones con 30 observaciones, media=170, desviación=1 (usando estimador de varianza sesgado)\n",
            "Varianza promedio:  0.9666944624130336\n",
            "\n",
            "Ejecución #4 de 10.000 iteraciones con 1000 observaciones, media=170, desviación=1 (usando estimador de varianza sesgado)\n",
            "Varianza promedio:  0.9994400152861576\n",
            "\n",
            "\n",
            "Ahora usando estimador de varianza sin sesgo\n",
            "\n",
            "Ejecución #5 de 10.000 iteraciones con 30 observaciones, media=170, desviación=1 (usando estimador de varianza SIN sesgo)\n",
            "Varianza promedio:  1.0000957158704022\n",
            "\n",
            "Ejecución #6 de 10.000 iteraciones con 30 observaciones, media=170, desviación=1 (usando estimador de varianza SIN sesgo)\n",
            "Varianza promedio:  1.002535412075098\n",
            "\n",
            "Ejecución #7 de 10.000 iteraciones con 30 observaciones, media=170, desviación=1 (usando estimador de varianza SIN sesgo)\n",
            "Varianza promedio:  0.9982685330832359\n",
            "\n",
            "Ejecución #8 de 10.000 iteraciones con 1000 observaciones, media=170, desviación=1 (usando estimador de varianza SIN sesgo)\n",
            "Varianza promedio:  0.9991069288745901\n"
          ],
          "name": "stdout"
        }
      ]
    },
    {
      "cell_type": "markdown",
      "metadata": {
        "id": "_ddi93x4d9Ip",
        "colab_type": "text"
      },
      "source": [
        "## **R/**\n",
        "\n",
        "En las 3 primeras ejecuciones donde se utilizó el estimador de varianza sesgado, el valor de la varianza promedio obtenida no aproxima de mejor manera el utilizado para crear las muestras.\n",
        "\n",
        "Al haber pocos datos (solo 30), este estimador se ajusta mucho a los pocos datos que hay y se deberia compensar quitando dicho sesgo. Hay que resaltar que si funcionaría si la cantidad de datos es muy grande. Por ejemplo, en la **ejecución #4**, se sigue utilizando el mismo estimador con sesgo pero con observaciones de 1000 elementos. Como se puede notar, la varianza ahora si aproxima casi por completo la utilizada inicialmente.\n",
        "\n",
        "Para trabajar con pocos datos podemos utilizar el estimador sin sesgo que se adecua mejor. Podemos ver en las **ejecuciones #5, #6 y #7** que con observaciones de 30 datos, la varianza estimada obtenida despues de 10.000 iteraciones si se aproxima muy bien al utilizado en la creación de las muestras.\n",
        "\n",
        "Así mismo, se realiza en la **ejecución #8** una prueba con el estimador sin sesgo en muestras de 1000 observaciones. Esta también se adecua de buena manera."
      ]
    }
  ]
}